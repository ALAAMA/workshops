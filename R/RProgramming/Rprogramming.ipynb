{
 "cells": [
  {
   "cell_type": "markdown",
   "metadata": {},
   "source": [
    "# Workshop overview and materials\n",
    "\n",
    "## Workshop description\n",
    "\n",
    "This is an intermediate/advanced R course appropriate for those with\n",
    "basic knowledge of R. It is intended for those already comfortable with\n",
    "using R for data analysis who wish to move on to writing their own\n",
    "functions. To the extent possible this workshop uses real-world\n",
    "examples. That is to say that concepts are introduced as they are needed\n",
    "for a realistic analysis task. In the course of working through a\n",
    "realistic project we will lean about interacting with web services,\n",
    "regular expressions, iteration, functions, control flow and more.\n",
    "\n",
    "Prerequisite: basic familiarity with R, such as acquired from an\n",
    "introductory R workshop.\n",
    "\n",
    "## Materials and setup\n",
    "\n",
    "Everyone should have R installed -- if not:\n",
    "\n",
    "  - Open a web browser and go to <http://cran.r-project.org> and\n",
    "    download and install it\n",
    "  - Also helpful to install RStudio (download from <http://rstudio.com>)\n",
    "\n",
    "Materials for this workshop include slides, example data sets, and\n",
    "example code.\n",
    "\n",
    "  - Download materials from\n",
    "    <http://tutorials.iq.harvard.edu/R/RProgramming.zip>\n",
    "  - Extract the zip file containing the materials to your desktop\n",
    "\n",
    "## Example project overview\n",
    "\n",
    "Throughout this workshop we will return to a running example that\n",
    "involves acquiring, processing, and analyzing data from the [Displaced\n",
    "Worker\n",
    "Survery](http://ceprdata.org/cps-uniform-data-extracts/cps-displaced-worker-survey/cps-dws-data/)\n",
    "(DWS). In this context we will learn about finding and using R packages,\n",
    "importing and manipulating data, writing functions, and more. The web\n",
    "page has been mirrored at\n",
    "<http://tutorials.iq.harvard.edu/cps-uniform-data-extracts/cps-displaced-worker-survey/cps-dws-data>\n",
    "for convenience.\n",
    "\n",
    "# Extracting elements from html\n",
    "\n",
    "It is common for data to be made available on a website somewhere,\n",
    "either by a government agency, research group, or other organizations\n",
    "and entities. Often the data you want is spread over many files, and\n",
    "retrieving it all one file at a time is tedious and time consuming. Such\n",
    "is the case with the CPS data we will be using today.\n",
    "\n",
    "The Center for Economic and Policy Research has helpfully [compiled DWS\n",
    "data going back\n",
    "to 1994](http://ceprdata.org/cps-uniform-data-extracts/cps-displaced-worker-survey/cps-dws-data/)\\[1\\].\n",
    "Although we could open a web browser and download these files one at a\n",
    "time, it will be faster and easier to instruct R to do that for us.\n",
    "Doing it this way will also give us an excuse to talk about html\n",
    "parsing, regular expressions, package management, and other useful\n",
    "techniques.\n",
    "\n",
    "Our goal is to download all the Stata data sets from\n",
    "<http://tutorials.iq.harvard.edu/cps-uniform-data-extracts/cps-displaced-worker-survey/cps-dws-data/>.\n",
    "In order to do that we need a list of the Uniform Resource Locators\n",
    "(URLs) of those files. The URLs we need are right there as links in the\n",
    "ceprdata.org webpage. All we have to do is read that data in a way R can\n",
    "understand.\n",
    "\n",
    "## Packages for parsing html\n",
    "\n",
    "In order extract the data URls from the ceprdata.org website we need a\n",
    "package for parsing XML and HTML. How do we find such a package?\n",
    "\n",
    "  - Task views  \n",
    "    <https://cran.r-project.org/web/views/WebTechnologies.html>\n",
    "  - R package search  \n",
    "    <http://www.r-pkg.org/search.html?q=html+xml>\n",
    "  - Web search  \n",
    "    <https://www.google.com/search?q=R+parse+html+xml&ie=utf-8&oe=utf-8>\n",
    "\n",
    "For parsing html in R I recommend either the `xml2` package or the\n",
    "`rvest` package, with the former being more flexible and the later being\n",
    "more user friendly. Let's use the friendlier one.\n",
    "\n",
    "## Extracting information from web pages with the `rvest` package\n",
    "\n",
    "Our first task is to read the web page into R. We can do that using the\n",
    "`read_html` function. Next we want to find all the links (the `<a>`\n",
    "tags) and extract their `href` attributes. To give a better sense of\n",
    "this here is what the html for the 2010 data file link looks\n",
    "like:",
    "```",
    "<a onclick=\"_gaq.push(['_trackEvent', 'File','Download', 'cepr_dws_2010_dta']);\"\n",
    "   href=\"/wp-content/cps/data/cepr_dws_2010_dta.zip\">cepr_dws_2010_dta.zip</a>",
    "```",
    "We want the `href` part, i.e.,\n",
    "```",
    "\"/wp-content/cps/data/cepr<sub>dws2010dta</sub>.zip\".\n",
    "```",
    "\n",
    "We can get all the `<a>` elements using the `html_nodes` function, and\n",
    "then extract the `href` attributes usig the `html_attr` function, like\n",
    "this:"
   ]
  },
  {
   "cell_type": "code",
   "execution_count": null,
   "metadata": {},
   "outputs": [],
   "source": [
    "  ## install.packages(\"rvest\")\n",
    "  library(rvest)\n",
    "\n",
    "  ## read the web page into R\n",
    "  dataPage <- read_html(\"http://tutorials.iq.harvard.edu/cps-uniform-data-extracts/cps-displaced-worker-survey/cps-dws-data/\")\n",
    "\n",
    "  ## find the link (\"a\") elements.\n",
    "  allAnchors <- html_nodes(dataPage, \"a\")\n",
    "  head(allAnchors, 15)\n",
    "\n",
    "  ## extract the link (\"href\") attributes\n",
    "  allLinks <- html_attr(allAnchors, \"href\")\n",
    "  head(allLinks, 15)"
   ]
  },
  {
   "cell_type": "markdown",
   "metadata": {},
   "source": [
    "## Just the data please -- regular expressions to the rescue\n",
    "\n",
    "Looking at the output from the previous example you might notice a\n",
    "problem; we've matched **all** the URLs on the web page. Some of those\n",
    "(the ones that end in .zip) are the ones we want, others are menu links\n",
    "that we don't want. How can we separate the data links from the other\n",
    "links on the page?\n",
    "\n",
    "One answer is to use regular expressions to idenfify the links we want.\n",
    "Regular expressions are useful in general (not just in R\\!) and it is a\n",
    "good idea to be familiar with at least the basics. For our present\n",
    "purpose it will be more than enough to use regular expression that\n",
    "matches strings starting with `/wp` and ending with `.zip`.\n",
    "\n",
    "In regulars expression `^`, `.`, `*`, and `$` are special characters\n",
    "with the following meanings:\n",
    "\n",
    "  - ^  \n",
    "    matches the beginning of the string\n",
    "  - .  \n",
    "    matches any character\n",
    "  - \\*  \n",
    "    repeates the last caracter zero or more times\n",
    "  - $  \n",
    "    matches the end of the string\n",
    "\n",
    "If you have not been introduced to regular expressions yet a nice\n",
    "interactive regex tester is available at <http://www.regexr.com/> and an\n",
    "interactive tutorial is available at <http://www.regexone.com/>.\n",
    "\n",
    "R comes with a `grep` function that can be used to search for patterns\n",
    "in strings, but for more sophisticated string manipulation I recommend\n",
    "the `stringi` package. The function names are more verbose, but it\n",
    "provides much more complete and robust string handling than is available\n",
    "in base R. For our relatively simple needs `grep` will suffice, but if\n",
    "you need to do extensive string manipulation in R the `stringi` package\n",
    "is the way to go."
   ]
  },
  {
   "cell_type": "code",
   "execution_count": null,
   "metadata": {},
   "outputs": [],
   "source": [
    "  dataLinks <- grep(\"^/wp.*\\\\.zip$\", allLinks, value = TRUE)\n",
    "  head(dataLinks)"
   ]
  },
  {
   "cell_type": "markdown",
   "metadata": {},
   "source": [
    "(Note that the backslashes in the above example are used to escape the\n",
    "`.` so that it is matched literally instead of matching any characters\n",
    "as it normallly would in a regular expression.)\n",
    "\n",
    "Finally, the data links we've extracted are relative to the ceprdata\n",
    "website. To make them valid we need to prepend\n",
    "`http://tutorials.iq.harvard.edu/` to each one. We can do that using the\n",
    "`paste`\n",
    "function."
   ]
  },
  {
   "cell_type": "code",
   "execution_count": null,
   "metadata": {},
   "outputs": [],
   "source": [
    "  dataLinks <- paste(\"http://tutorials.iq.harvard.edu\", dataLinks, sep = \"\")\n",
    "  head(dataLinks)"
   ]
  },
  {
   "cell_type": "markdown",
   "metadata": {},
   "source": [
    "## Getting the list of data links the easy way\n",
    "\n",
    "If you look at the result from the previous two methods you might notice\n",
    "that the URLs are all the same save for the year number. This suggests\n",
    "an even easier way to construct the list of\n",
    "URLs:"
   ]
  },
  {
   "cell_type": "code",
   "execution_count": null,
   "metadata": {},
   "outputs": [],
   "source": [
    "  (dataLinks <- paste(\"http://tutorials.iq.harvard.edu/wp-content/cps/data/cepr_dws_\",\n",
    "                      seq(1994, 2010, by = 2),\n",
    "                      \"_dta.zip\",\n",
    "                      sep = \"\"))"
   ]
  },
  {
   "cell_type": "markdown",
   "metadata": {},
   "source": [
    "Wow, that was a **lot** easier. Why oh why didn't we just do that in the\n",
    "first place? Well, it works for this specific case, but it is much less\n",
    "general than the html parsing methods we discussed previously. Those\n",
    "methods will work in the general case, while pasting the year number\n",
    "into the URLs only works because the URLs we want have a very regular\n",
    "and consistent form.\n",
    "\n",
    "# Exercise 0: html parsing\n",
    "\n",
    "The <http://ceprdata.org/> website provides code books for the DWS data\n",
    "in `.pdf` format. Links to these code books are available on the\n",
    "documentation page at\n",
    "<http://ceprdata.org/cps-uniform-data-extracts/cps-displaced-worker-survey/cps-dws-documentation/>.\n",
    "Parse this page and extract the links to the code books.\n",
    "\n",
    "# Exercise 0 prototype"
   ]
  },
  {
   "cell_type": "code",
   "execution_count": null,
   "metadata": {},
   "outputs": [],
   "source": [
    "  ## read in the html page\n",
    "  ceprDoc <- read_html(\n",
    "    \"http://ceprdata.org/cps-uniform-data-extracts/cps-displaced-worker-survey/cps-dws-documentation/\"\n",
    "  )\n",
    "  ## get the codebook links\n",
    "  ceprCodeBookLinks <- html_attr(#extract attributes\n",
    "    html_nodes(#from nodes  \n",
    "      ceprDoc,#in ceprDoc\n",
    "      ## This uses an xpath expression to select just the codebook links.\n",
    "      ## You could alternatively download all the links and filter them\n",
    "      ## with a regular expression. Use whatever works and is comfortable!\n",
    "      ## There is more than one right way.\n",
    "      xpath = '//*[@id=\"content\"]/article/div/ul[1]//a'),#matching this xpath\n",
    "    'href' #extract href attributes\n",
    "  )"
   ]
  },
  {
   "cell_type": "markdown",
   "metadata": {},
   "source": [
    "# Downloading files in R\n",
    "\n",
    "Now that we have a vector of URLs pointing to the data files we want to\n",
    "download, we want to iterate over the elements and download each file.\n",
    "We can use the `download.file` function to download the data files.\n",
    "\n",
    "The `download.file` function requires a URL as the first argument, and a\n",
    "file name as the second argument. We can use the `basename` function to\n",
    "strip of the location part of the URL, leaving only the file name. We\n",
    "could do this verbosely by writing one line for each file:"
   ]
  },
  {
   "cell_type": "code",
   "execution_count": null,
   "metadata": {},
   "outputs": [],
   "source": [
    "  ## download.file(dataLinks[1], basename(dataLinks[1]))\n",
    "  ## download.file(dataLinks[2], basename(dataLinks[2]))\n",
    "  ## ...\n",
    "  ## download.file(dataLinks[n], basename(dataLinks[3]))"
   ]
  },
  {
   "cell_type": "markdown",
   "metadata": {},
   "source": [
    "but that is too much typing. First, it would be more convenient if the\n",
    "`download.file` function defaulted to `destfile ` basename(url)=.\n",
    "Fortunately it is very easy to write your own functions in R. We can\n",
    "write a wrapper around the `download.file` function like this:"
   ]
  },
  {
   "cell_type": "code",
   "execution_count": null,
   "metadata": {},
   "outputs": [],
   "source": [
    "  ## a simple function to make downloading files easier\n",
    "  downloadFile <- function(url, # url to download\n",
    "                           destfile = basename(url), # default name to save to\n",
    "                           outdir = \"./dataSets/\", # default directory to save in\n",
    "                           ... # other named arguments passed to download.file\n",
    "                           ){\n",
    "    ## create output directory if it doesn't exist\n",
    "    if(!dir.exists(outdir)) {\n",
    "      dir.create(outdir)\n",
    "    }\n",
    "    ## download the file using the specified url, output directory, and file name\n",
    "    download.file(url = url, destfile = paste(outdir, destfile, sep = \"\"), ...)\n",
    "  }"
   ]
  },
  {
   "cell_type": "markdown",
   "metadata": {},
   "source": [
    "Using this function we can download the data files more conveniently,\n",
    "but we haven't yet addressed how to avoid typing out separate function\n",
    "calls for each file we need to download. For that we need iteration.\n",
    "\n",
    "# Downloading all the files\n",
    "\n",
    "To download all the files conveniently we want to iterate over the\n",
    "vector of URLs and download each one. We can carry out this iteration in\n",
    "several ways, including using a `for` loop, or using one of the `apply`\n",
    "family of functions.\n",
    "\n",
    "`for` and `while` loops in R work much the same as they do in other\n",
    "programming languages. The `apply` family of functions apply a function\n",
    "to each element of an object.\n",
    "\n",
    "## Iterating using for-loop\n",
    "\n",
    "One way to download the data files is to use a for-loop to iterate over\n",
    "the contents of our vector of URLs. Some people will tell you to avoid\n",
    "for-loops in R but this is nonsense. Loops are convenient and useful,\n",
    "and while they are not the best tool for all situations calling for\n",
    "iteration they are perfectly appropriate for downloading a series of\n",
    "files. If you've used a for loop in any other language you will probably\n",
    "find the R implementation to be very similar.\n",
    "\n",
    "For loops in R have the following general structure: `for(<placeholder>\n",
    "in <thing to iterate over>) {do stuff with placeholder}`. In our case we\n",
    "want to iterate over `dataLinks` and download each one, so this becomes"
   ]
  },
  {
   "cell_type": "code",
   "execution_count": null,
   "metadata": {},
   "outputs": [],
   "source": [
    "  str(dataLinks)\n",
    "\n",
    "  ## make a directory to store the data\n",
    "  dir.create(\"dataSets\")\n",
    "\n",
    "  for(link in dataLinks) {\n",
    "      downloadFile(link, outdir = \"dataSets/\")\n",
    "  }"
   ]
  },
  {
   "cell_type": "markdown",
   "metadata": {},
   "source": [
    "## Iterating over vectors and lists with the `sapply` function\n",
    "\n",
    "The `sapply` function iterates over a vector or list and applies a\n",
    "function to each element. To start, let's use `sapply` do download all\n",
    "the displaced worker survey data files:"
   ]
  },
  {
   "cell_type": "code",
   "execution_count": null,
   "metadata": {},
   "outputs": [],
   "source": [
    "  ## download all the dws data\n",
    "  sapply(dataLinks,\n",
    "         downloadFile,\n",
    "         outdir = \"dataSets/\")"
   ]
  },
  {
   "cell_type": "markdown",
   "metadata": {},
   "source": [
    "## Iterating in parallel with the `mclapply` function\n",
    "\n",
    "The `mclapply` function iterates over a vector or list and applies a\n",
    "function to each element using multiple CPU cores (where available).\n",
    "Let's use `mclapply` do download all the displaced worker survey data\n",
    "files:"
   ]
  },
  {
   "cell_type": "code",
   "execution_count": null,
   "metadata": {},
   "outputs": [],
   "source": [
    "  ## download all the dws data\n",
    "  library(parallel)\n",
    "  mclapply(dataLinks,\n",
    "         downloadFile,\n",
    "         outdir = \"dataSets/\",\n",
    "         mc.cores = detectCores())"
   ]
  },
  {
   "cell_type": "markdown",
   "metadata": {},
   "source": [
    "We can now use what we've learned about iteration to unzip all the files\n",
    "in the `dataSets` directory, a task I leave to you.\n",
    "\n",
    "# Exercise 1: Iterate and extract\n",
    "\n",
    "Use a `for` loop or `*apply` function to unzip each of the `.zip` files\n",
    "in the `dataSets` directory.\n",
    "\n",
    "BONUS (optional): calculate the size of each extracted file and\n",
    "calculate the difference in size between each `.dta` file and the `.zip`\n",
    "file it was extracted\n",
    "from.\n",
    "\n",
    "# Exercise 1 prototype"
   ]
  },
  {
   "cell_type": "code",
   "execution_count": null,
   "metadata": {},
   "outputs": [],
   "source": [
    "  zipFiles <- list.files(\"dataSets\", pattern = \"\\\\.zip$\", full.names=TRUE)\n",
    "\n",
    "  ## using sapply\n",
    "  sapply(zipFiles, unzip, exdir = \"dataSets\")\n",
    "  ## using a for loop\n",
    "  for(f in zipFiles) unzip(f, exdir = \"dataSets\")\n",
    "\n",
    "  ## Calculating compression ratios\n",
    "  dataFiles <- list.files(\"dataSets\", pattern = \"\\\\.dta$\", full.names = TRUE)\n",
    "\n",
    "  uncompSize <- round(file.size(dataFiles) / 1024^2)\n",
    "  compSize <- round(file.size(zipFiles) / 1024^2)\n",
    "\n",
    "  cbind(zipFile = paste0(basename(zipFiles), \": \", compSize, \"Mb\"),\n",
    "        dtaFile = paste0(basename(dataFiles), \": \", uncompSize, \"Mb\"),\n",
    "        diff = paste0(round(uncompSize - compSize), \"Mb\"),\n",
    "        compression_ratio = round(uncompSize / compSize, digits = 3))"
   ]
  },
  {
   "cell_type": "markdown",
   "metadata": {},
   "source": [
    "# Importing and inspecting data and meta-data\n",
    "\n",
    "Our next goal is to read in the data that we downloaded and extracted\n",
    "earlier. The data are stored as Stata data sets, which can be imported\n",
    "using the `read.dta` function in the `foreign` package. Let's start by\n",
    "reading just the first data set."
   ]
  },
  {
   "cell_type": "code",
   "execution_count": null,
   "metadata": {},
   "outputs": [],
   "source": [
    "  ## attach the foreign packge so we can read stata files\n",
    "  library(foreign)\n",
    "\n",
    "  ## get a list of all the stata files in the dataSets directory\n",
    "  dataFiles <- list.files(\"dataSets\", pattern = \"\\\\.dta$\", full.names=TRUE)\n",
    "\n",
    "  ## read in the first one\n",
    "  ceprData1 <- read.dta(dataFiles[1])"
   ]
  },
  {
   "cell_type": "markdown",
   "metadata": {},
   "source": [
    "Now that we've read in some of the data we want to get some more\n",
    "information about it.\n",
    "\n",
    "## Mode and length\n",
    "\n",
    "Information about objects in R are stored as *attributes* of the object.\n",
    "All R objects have a storage *mode* and a *length*. Since all objects in\n",
    "R have these attributes we refer to them as *intrinsic attributes*. We\n",
    "can get the value of these intrinsic attributes using the `mode` and\n",
    "`length` functions respecively. For example, what is the mode and length\n",
    "of our `ceprData1` object?"
   ]
  },
  {
   "cell_type": "code",
   "execution_count": null,
   "metadata": {},
   "outputs": [],
   "source": [
    "  mode(ceprData1)\n",
    "  length(ceprData1)"
   ]
  },
  {
   "cell_type": "markdown",
   "metadata": {},
   "source": [
    "## Other properties of data.frames\n",
    "\n",
    "So far we've seen that `ceprData1` is a list of length 178. Actually\n",
    "`ceprData1` is a special kind of list called a `data.frame`. We can see\n",
    "that by asking R what the `class` of the object is."
   ]
  },
  {
   "cell_type": "code",
   "execution_count": null,
   "metadata": {},
   "outputs": [],
   "source": [
    "  class(ceprData1)"
   ]
  },
  {
   "cell_type": "markdown",
   "metadata": {},
   "source": [
    "A *data.frame* in R is a list with elements of equal length. It is a\n",
    "rectangular structure with rows and columns. In addition to the *mode*\n",
    "and *length* that all object in R have, *data.frames* also have\n",
    "dimension, (col)names, and =rownames."
   ]
  },
  {
   "cell_type": "code",
   "execution_count": null,
   "metadata": {},
   "outputs": [],
   "source": [
    "  dim(ceprData1)\n",
    "  names(ceprData1)\n",
    "  c(head(rownames(ceprData1)), \"...\", tail(rownames(ceprData1)))"
   ]
  },
  {
   "cell_type": "markdown",
   "metadata": {},
   "source": [
    "## Additional attributes\n",
    "\n",
    "OK, so far we know the ceprData1 is a *data.frame* with 156246 rows and\n",
    "178 columns, and that the variables have terrible cryptic names like\n",
    "`cjpporg` and `ljagric`. What do we actually have here? One way to\n",
    "answer the question is"
   ]
  },
  {
   "cell_type": "code",
   "execution_count": null,
   "metadata": {},
   "outputs": [],
   "source": [
    "  browseURL(ceprCodeBookLinks[1])"
   ]
  },
  {
   "cell_type": "markdown",
   "metadata": {},
   "source": [
    "and that is a good answer actually. In our case the meta-data has also\n",
    "been embedded in the `.dta` files by our friends at\n",
    "[ceprdata.org](http://ceprdata.org). This meta-data has been attached to\n",
    "the `ceprData1` data.frame in the form of additional attributes.\n",
    "\n",
    "The system used by R for storing attributes of this kind is simple.\n",
    "Arbitrary attributes can be set using the `attr` function, and retrieved\n",
    "using either `attr` or the `attributes` function. Let's take a quick\n",
    "look a this system before using it to access the ceprData1 meta-data."
   ]
  },
  {
   "cell_type": "code",
   "execution_count": null,
   "metadata": {},
   "outputs": [],
   "source": [
    "  x <- 1:10\n",
    "  attributes(x)\n",
    "  attr(x, \"description\") <- \"This is vector of integers from 1 to 10\"\n",
    "  attributes(x)\n",
    "  attr(x, \"how_many\") <- \"There are ten things in this vector\"\n",
    "  attributes(x)\n",
    "  attr(x, \"description\")"
   ]
  },
  {
   "cell_type": "markdown",
   "metadata": {},
   "source": [
    "As we've seen, additional attributes and be accessed vie the\n",
    "`attributes` function. Let's see what other attributes our `ceprData`\n",
    "object has."
   ]
  },
  {
   "cell_type": "code",
   "execution_count": null,
   "metadata": {},
   "outputs": [],
   "source": [
    "  ceprDataInfo <- attributes(ceprData1)\n",
    "  mode(ceprDataInfo)\n",
    "  class(ceprDataInfo)\n",
    "  length(ceprDataInfo)\n",
    "  names(ceprDataInfo)"
   ]
  },
  {
   "cell_type": "markdown",
   "metadata": {},
   "source": [
    "Let's iterate over the attributes of =ceprData1- and get some more\n",
    "information about the available meta-data"
   ]
  },
  {
   "cell_type": "code",
   "execution_count": null,
   "metadata": {},
   "outputs": [],
   "source": [
    "  t(sapply(attributes(ceprData1),\n",
    "           function(x) {\n",
    "             c(mode = mode(x), class = class(x), length = length(x))\n",
    "           })\n",
    "    )"
   ]
  },
  {
   "cell_type": "markdown",
   "metadata": {},
   "source": [
    "## Extracting useful meta-data\n",
    "\n",
    "We can extract elements from lists in a few different ways:"
   ]
  },
  {
   "cell_type": "code",
   "execution_count": null,
   "metadata": {},
   "outputs": [],
   "source": [
    "  ## extract by name\n",
    "  ceprDataInfo$datalabel #using $\n",
    "  ceprDataInfo[\"datalabel\"] #using [\n",
    "  ceprDataInfo[[\"datalabel\"]] #using [[, note the difference\n",
    "\n",
    "  ## by position\n",
    "  ceprDataInfo[1]; ceprDataInfo[[1]] # note the difference\n",
    "\n",
    "  ## by logical index\n",
    "  ceprDataInfo[c(TRUE, TRUE, rep(FALSE, 10))]\n",
    "  ceprDataInfo[sapply(ceprDataInfo, length) == 1]"
   ]
  },
  {
   "cell_type": "markdown",
   "metadata": {},
   "source": [
    "Note that `[` indexing on a list returns a list, and `[[` indexing\n",
    "returns whatever contained in a single element of the list. This visual\n",
    "explanation may help: ![](file:images/HadleyWickham_index_list.png)\\[2\\]\n",
    "\n",
    "You may have noticed during our earlier investigation of `ceprDataInfo`\n",
    "that many of the elements have length 178. That number might be\n",
    "familiar:"
   ]
  },
  {
   "cell_type": "code",
   "execution_count": null,
   "metadata": {},
   "outputs": [],
   "source": [
    "  dim(ceprData1)"
   ]
  },
  {
   "cell_type": "markdown",
   "metadata": {},
   "source": [
    "it's the number of columns in the data set. It is therefor a good guess\n",
    "that those elements record information about each of the columns in the\n",
    "data set.\n",
    "\n",
    "### Exercise 2\n",
    "\n",
    "Extract elements from `ceprDataInfo` that will help you understand what\n",
    "each column in `deprData` contains. Include at least the variable\n",
    "`names` and `var.labels` as well as any other information that you think\n",
    "will be useful.\n",
    "\n",
    "Bonus (optional): supplement the `ceprDataInfo` you extracted in step\n",
    "one with the mode, class, etc. of each column in `ceprData1`\n",
    "\n",
    "### Exercise 2 prototype"
   ]
  },
  {
   "cell_type": "code",
   "execution_count": null,
   "metadata": {},
   "outputs": [],
   "source": [
    "  ceprCodebook <- data.frame(\n",
    "    ceprDataInfo[\n",
    "      sapply(ceprDataInfo, length) == ncol(ceprData1)\n",
    "    ])\n",
    "\n",
    "  ceprCodebook$mode <- sapply(ceprData1, mode)\n",
    "  ceprCodebook$class <- sapply(ceprData1, class)\n",
    "  ceprCodebook$n_distinct = sapply(ceprData1, function(x) length(unique(x)))\n",
    "\n",
    "  rbind(head(ceprCodebook), tail(ceprCodebook))"
   ]
  },
  {
   "cell_type": "markdown",
   "metadata": {},
   "source": [
    "# Aggregation\n",
    "\n",
    "Now that we have the data read in, and we know what is in each column, I\n",
    "want to calculate the proportion displaced by year/rural/gender. I can\n",
    "do that using the `aggregate` function (the `data.table` and `dplyr`\n",
    "packages provide advanced aggregation capabilities, but `aggregate` is\n",
    "available in base R and works well for many things)."
   ]
  },
  {
   "cell_type": "code",
   "execution_count": null,
   "metadata": {},
   "outputs": [],
   "source": [
    "  ceprData1 <- aggregate(ceprData1[\"dw\"],\n",
    "                         by = ceprData1[c(\"year\", \"rural\", \"female\")],\n",
    "                         FUN = mean, na.rm = TRUE)\n",
    "  ceprData1"
   ]
  },
  {
   "cell_type": "markdown",
   "metadata": {},
   "source": [
    "# Exercise 3\n",
    "\n",
    "Now that we have a process for importing and aggregating the data we can\n",
    "apply it to all the data files we downloaded earlier. We can do that by\n",
    "wrapping the `read.dta` and `aggregate` code in a function and applying\n",
    "that function to each element of `dataFiles` using the `sapply`\n",
    "function, or using a `for` loop. Go ahead and give it a try\\! Note that\n",
    "this exercise is intentionally challenging; read the documentation,\n",
    "search stackoverflow.com, and use any other resources at your disposal\n",
    "as you attempt it.\n",
    "\n",
    "# Exercise 3 prototype"
   ]
  },
  {
   "cell_type": "code",
   "execution_count": null,
   "metadata": {},
   "outputs": [],
   "source": [
    "  library(foreign)\n",
    "\n",
    "  ceprData <- mclapply(dataFiles, function(x) {\n",
    "    tmp <- read.dta(x)\n",
    "    return(aggregate(tmp[\"dw\"],\n",
    "                     by = tmp[c(\"year\", \"rural\", \"female\")],\n",
    "                     FUN = mean, na.rm = TRUE))})"
   ]
  },
  {
   "cell_type": "markdown",
   "metadata": {},
   "source": [
    "# Finishing touches\n",
    "\n",
    "We now have a list of aggregated data.frames. The next step is to stack\n",
    "each element of the list so that we end up with one big data.frame\n",
    "instead of a list of small ones. We can stack two data.frames using the\n",
    "`rbind` function:"
   ]
  },
  {
   "cell_type": "code",
   "execution_count": null,
   "metadata": {},
   "outputs": [],
   "source": [
    "  ceprData[[1]]; ceprData[[2]]\n",
    "  rbind(ceprData[[1]], ceprData[[2]])"
   ]
  },
  {
   "cell_type": "markdown",
   "metadata": {},
   "source": [
    "and we can apply this operation to every element in the list using the\n",
    "`do.call` function."
   ]
  },
  {
   "cell_type": "code",
   "execution_count": null,
   "metadata": {},
   "outputs": [],
   "source": [
    "  str(ceprData <- do.call(\"rbind\", ceprData))"
   ]
  },
  {
   "cell_type": "markdown",
   "metadata": {},
   "source": [
    "## Data formatting\n",
    "\n",
    "Our final step before plotting our data is to format the values for\n",
    "`rural` and `female`. Currently these values are stored as 0/1 dummy\n",
    "codes, but I would like for the values to be spelled out.\n",
    "\n",
    "Earlier we saw how to extract elements of R objects using bracket\n",
    "notation. To replace elements we using the replacement form, which looks\n",
    "like this:"
   ]
  },
  {
   "cell_type": "code",
   "execution_count": null,
   "metadata": {},
   "outputs": [],
   "source": [
    "   ceprData[[\"rural\"]] <- factor(ceprData[[\"rural\"]],\n",
    "                                 levels = c(0, 1),\n",
    "                                 labels = c(\"Non-rural\", \"Rural\"))\n",
    "\n",
    "   ceprData[[\"gender\"]] <- factor(ceprData[[\"female\"]],\n",
    "                                 levels = c(1, 0),\n",
    "                                 labels = c(\"Female\", \"Male\"))\n",
    "\n",
    "  ceprData$displaced_percent <- ceprData$dw * 100\n",
    "\n",
    "  str(ceprData)"
   ]
  },
  {
   "cell_type": "markdown",
   "metadata": {},
   "source": [
    "## Plotting\n",
    "\n",
    "Now we can take a look at the trends in worker displacement over the\n",
    "last few years."
   ]
  },
  {
   "cell_type": "code",
   "execution_count": null,
   "metadata": {},
   "outputs": [],
   "source": [
    "  library(ggplot2)\n",
    "  library(directlabels)\n",
    "  ceprPlot <- ggplot(ceprData, aes(x = year, y = displaced_percent, color = gender)) +\n",
    "    geom_line() +\n",
    "    geom_point() +\n",
    "    facet_wrap(~rural)\n",
    "  direct.label(ceprPlot)"
   ]
  },
  {
   "cell_type": "markdown",
   "metadata": {},
   "source": [
    "# What else?\n",
    "\n",
    "If there is anything else you want to learn how to do, now is the time\n",
    "to ask\\!\n",
    "\n",
    "# Go forth and code\\!\n",
    "\n",
    "You now know everything you could possibly want to know about R. OK\n",
    "maybe not\\! But you do know how to manipulate character strings with\n",
    "regular expressions, write your own functions, execute code\n",
    "conditionally, iterate using `for` or `sapply`, inspect and modify\n",
    "attributes, and extract and replace object elements. There's a lot more\n",
    "to learn, but that's a pretty good start. As you go forth and write your\n",
    "own R code here are some resources that may be helpful.\n",
    "\n",
    "## Additional reading and resources\n",
    "\n",
    "  - Learn from the best: <http://adv-r.had.co.nz/>\n",
    "\n",
    "  - S3 system overview: <https://github.com/hadley/devtools/wiki/S3>\n",
    "\n",
    "  - S4 system overview: <https://github.com/hadley/devtools/wiki/S4>\n",
    "\n",
    "  - R documentation: <http://cran.r-project.org/manuals.html>\n",
    "\n",
    "  - Collection of R tutorials:\n",
    "    <http://cran.r-project.org/other-docs.html>\n",
    "\n",
    "  - R for Programmers (by Norman Matloff, UC--Davis)\n",
    "\n",
    "<http://heather.cs.ucdavis.edu/~matloff/R/RProg.pdf>\n",
    "\n",
    "  - Calling C and Fortran from R (by Charles Geyer, UMinn)\n",
    "\n",
    "<http://www.stat.umn.edu/~charlie/rc/>\n",
    "\n",
    "  - State of the Art in Parallel Computing with R (Schmidberger et al.)\n",
    "\n",
    "<http://www.jstatso|.org/v31/i01/paper>\n",
    "\n",
    "  - Institute for Quantitative Social Science: <http://iq.harvard.edu>\n",
    "  - Research technology consulting: <http://projects.iq.harvard.edu/rtc>\n",
    "\n",
    "## Things that may surprise you\n",
    "\n",
    "There are an unfortunately large number of surprises in R programming.\n",
    "Some of these \"gotcha's\" are common problems in other languages, many\n",
    "are unique to R. We will only cover a few -- for a more comprehensive\n",
    "discussion please see\n",
    "<http://www.burns-stat.com/pages/Tutor/R_inferno.pdf>\n",
    "\n",
    "### Floating point comparison\n",
    "\n",
    "Floating point arithmetic is not exact:"
   ]
  },
  {
   "cell_type": "code",
   "execution_count": null,
   "metadata": {},
   "outputs": [],
   "source": [
    "  .1 == .3/3"
   ]
  },
  {
   "cell_type": "markdown",
   "metadata": {},
   "source": [
    "Solution: `use all.equal()`:"
   ]
  },
  {
   "cell_type": "code",
   "execution_count": null,
   "metadata": {},
   "outputs": [],
   "source": [
    "  all.equal(.1, .3/3)"
   ]
  },
  {
   "cell_type": "markdown",
   "metadata": {},
   "source": [
    "### Missing values\n",
    "\n",
    "R does not exclude missing values by default -- a single missing value\n",
    "in a vector means that many thing are unknown:"
   ]
  },
  {
   "cell_type": "code",
   "execution_count": null,
   "metadata": {},
   "outputs": [],
   "source": [
    "  x <- c(1:10, NA, 12:20)\n",
    "  c(mean(x), sd(x), median(x), min(x), sd(x))"
   ]
  },
  {
   "cell_type": "markdown",
   "metadata": {},
   "source": [
    "NA is not equal to anything, not even NA"
   ]
  },
  {
   "cell_type": "code",
   "execution_count": null,
   "metadata": {},
   "outputs": [],
   "source": [
    "  NA == NA"
   ]
  },
  {
   "cell_type": "markdown",
   "metadata": {},
   "source": [
    "Solutions: use `na.rm = TRUE` option when calculating, and is.na to test\n",
    "for missing\n",
    "\n",
    "### Automatic type conversion\n",
    "\n",
    "Automatic type conversion happens a lot which is often useful, but makes\n",
    "it easy to miss mistakes"
   ]
  },
  {
   "cell_type": "code",
   "execution_count": null,
   "metadata": {},
   "outputs": [],
   "source": [
    "  # combining values coereces them to the most general type\n",
    "  (x <- c(TRUE, FALSE, 1, 2, \"a\", \"b\"))\n",
    "  str(x)\n",
    "\n",
    "  # comparisons convert arguments to most general type\n",
    "  1 > \"a\""
   ]
  },
  {
   "cell_type": "markdown",
   "metadata": {},
   "source": [
    "Maybe this is what you expect... I would like to at least get a\n",
    "warning\\!\n",
    "\n",
    "### Optional argument inconsistencies\n",
    "\n",
    "Functions you might expect to work similarly don't always:"
   ]
  },
  {
   "cell_type": "code",
   "execution_count": null,
   "metadata": {},
   "outputs": [],
   "source": [
    "  mean(1, 2, 3, 4, 5)*5\n",
    "  sum(1, 2, 3, 4, 5)"
   ]
  },
  {
   "cell_type": "markdown",
   "metadata": {},
   "source": [
    "Why are these different?\\!?"
   ]
  },
  {
   "cell_type": "code",
   "execution_count": null,
   "metadata": {},
   "outputs": [],
   "source": [
    "  args(mean)\n",
    "  args(sum)"
   ]
  },
  {
   "cell_type": "markdown",
   "metadata": {},
   "source": [
    "Ouch. That is not nice at all\\!\n",
    "\n",
    "### Trouble with Factors\n",
    "\n",
    "Factors sometimes behave as numbers, and sometimes as characters, which\n",
    "can be confusing\\!"
   ]
  },
  {
   "cell_type": "code",
   "execution_count": null,
   "metadata": {},
   "outputs": [],
   "source": [
    "  (x <- factor(c(5, 5, 6, 6), levels = c(6, 5)))\n",
    "\n",
    "  str(x)\n",
    "\n",
    "  as.character(x)\n",
    "  # here is where people sometimes get lost...\n",
    "  as.numeric(x)\n",
    "  # you probably want\n",
    "  as.numeric(as.character(x))"
   ]
  },
  {
   "cell_type": "markdown",
   "metadata": {},
   "source": [
    "## Feedback\n",
    "\n",
    "  - Help Us Make This Workshop Better\\!\n",
    "  - Please take a moment to fill out a very short feedback form\n",
    "  - These workshops exist for you -- tell us what you need\\!\n",
    "  - <http://tinyurl.com/RprogrammingFeedback>\n",
    "\n",
    "<!-- end list -->\n",
    "\n",
    "1.  Center for Economic and Policy Research. 2012. CPS Displaced Worker\n",
    "    Uniform Extracts, Version 1.02. Washington, DC.\n",
    "\n",
    "2.  Photo by Hadley Wickham via\n",
    "    <https://twitter.com/hadleywickham/status/643381054758363136/photo/1>.\n",
    "    Used by permission."
   ]
  }
 ],
  "metadata": {
  "kernelspec": {
   "display_name": "R",
   "language": "R",
   "name": "ir"
  },
  "language_info": {
   "codemirror_mode": "r",
   "file_extension": ".r",
   "mimetype": "text/x-r-source",
   "name": "R",
   "pygments_lexer": "r",
   "version": "3.2.3"
  }
 },
 "nbformat": 4,
 "nbformat_minor": 0
}
