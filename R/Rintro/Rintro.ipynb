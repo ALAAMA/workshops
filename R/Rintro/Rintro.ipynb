{
 "cells": [
  {
   "cell_type": "markdown",
   "metadata": {},
   "source": [
    "Workshop Materials and Introduction\n",
    "===================================\n",
    "\n",
    "<div class=\"materials-no-ipynb\">\n",
    "\n",
    "Materials and setup\n",
    "-------------------\n",
    "You should have R installed --if not:\n",
    "\n",
    "-   Open a web browser and go to <http://cran.r-project.org> and download and install it\n",
    "-   Also helpful to install RStudio (download from <http://rstudio.com>)\n",
    "\n",
    "Download workshop materials:\n",
    "\n",
    "-   Download materials from <http://tutorials.iq.harvard.edu/R/Rintro.zip>\n",
    "-   Extract the zip file containing the materials to your desktop\n",
    "\n",
    "</div>\n",
    "\n",
    "What is R?\n",
    "----------\n",
    "\n",
    "R is a *programming language designed for statistical computing*. Notable characteristics include:\n",
    "\n",
    "-   Vast capabilities, wide range of statistical and graphical techniques\n",
    "-   Very popular in academia, growing popularity in business: <http://r4stats.com/articles/popularity/>\n",
    "-   Written primarily by statisticians\n",
    "-   FREE (no cost, open source)\n",
    "-   Excellent community support: mailing list, blogs, tutorials\n",
    "-   Easy to extend by writing new functions\n",
    "\n",
    "InspiRation\n",
    "-----------\n",
    "\n",
    "OK, it's free and popular, but what makes R worth learning? In a word, \"packages\". If you have a data manipulation, analysis or visualization task, chances are good that there is an R package for that. For example:\n",
    "\n",
    "-   Want to interactively explore the shape of the Churyumov–Gerasimenko comet?"
   ]
  },
  {
   "cell_type": "code",
   "execution_count": null,
   "metadata": {},
   "outputs": [],
   "source": [
    "  library(rgl)\n",
    "  open3d()\n",
    "  comet <- readOBJ(url(\"http://sci.esa.int/science-e/www/object/doc.cfm?fobjectid=54726\"))\n",
    "  shade3d(comet, col=\"gray\")\n",
    "  writeWebGL(dir=\"images\", filename = \"images/comet.html\")"
   ]
  },
  {
   "cell_type": "markdown",
   "metadata": {},
   "source": [
    "-   Want to find out where we are?"
   ]
  },
  {
   "cell_type": "code",
   "execution_count": null,
   "metadata": {},
   "outputs": [],
   "source": [
    "  library(ggmap)\n",
    "  nwbuilding <- geocode(\"1737 Cambridge Street Cambridge, MA 02138\", source = \"google\") \n",
    "  ggmap(get_map(\"Cambridge, MA\", zoom = 15)) +\n",
    "    geom_point(data=nwbuilding, size = 7, shape = 13, color = \"red\")"
   ]
  },
  {
   "cell_type": "markdown",
   "metadata": {},
   "source": [
    "-   Want to forecast the population of Australia?"
   ]
  },
  {
   "cell_type": "code",
   "execution_count": null,
   "metadata": {},
   "outputs": [],
   "source": [
    "  library(forecast)\n",
    "  fit <- auto.arima(austres)\n",
    "  ## Projected numbers (in thousands) of Australian residents\n",
    "  plot(forecast(fit))"
   ]
  },
  {
   "cell_type": "markdown",
   "metadata": {},
   "source": [
    "Whatever you're trying to do, you're probably not the first to try doing it R. Chances are good that someone has already written a package for that.\n",
    "\n",
    "Coming to R\n",
    "-----------\n",
    "\n",
    "Coming from...\n",
    "\n",
    "Stata  \n",
    "<http://www.princeton.edu/~otorres/RStata.pdf>\n",
    "\n",
    "SAS/SPSS  \n",
    "<http://www.et.bs.ehu.es/~etptupaf/pub/R/RforSAS&SPSSusers.pdf>\n",
    "\n",
    "matlab  \n",
    "<http://www.math.umaine.edu/~hiebeler/comp/matlabR.pdf>\n",
    "\n",
    "Python  \n",
    "<http://mathesaurus.sourceforge.net/matlab-python-xref.pdf>\n",
    "\n",
    "Graphical User Interfaces (GUIs)\n",
    "================================\n",
    "\n",
    "R GUI alternatives\n",
    "------------------\n",
    "\n",
    "The old-school way is to run R directly in a terminal\n",
    "\n",
    "![](images/Rconsole.png)\n",
    "\n",
    "But hardly anybody does it that way anymore! The Windows versio of R comes with a GUI that looks like this:\n",
    "\n",
    "![](images/Rgui.png)\n",
    "\n",
    "The default windows GUI is not very good\n",
    "\n",
    "-   No parentheses matching or syntax highlighting\n",
    "-   No work-space browser\n",
    "\n",
    "RStudio (an alternative GUI for R) is shown below. ![](images/Rstudio.png)\n",
    "\n",
    "Rstudio has many useful features, including parentheses matching and auto-completion. Rstudio is not the only advanced R interface; other alteratives include Emacs with ESS (shown below).\n",
    "\n",
    "![](images/emacs.png)\n",
    "\n",
    "Emacs + ESS is a very powerful combination, but can be difficult to set up.\n",
    "\n",
    "![](images/Jupyter.png)\n",
    "\n",
    "Jupyter is a notebook interface that runs in your web browser. A lot of people like it.\n",
    "\n",
    "Launch RStudio<span class=\"tag\" data-tag-name=\"labsetup\"></span>\n",
    "----------------------------------------------------------------\n",
    "\n",
    "-   Open the RStudio program\n",
    "-   Open up today's R script\n",
    "    -   In RStudio, Go to **File =&gt; Open Script**\n",
    "    -   Locate and open the `Rintro.R` script in the Rintro folder on your desktop\n",
    "-   Go to **Tools =&gt; Set working directory =&gt; To source file location** (more on the working directory later)\n",
    "-   I encourage you to add your own notes to this file! Every line that starts with `#` is a comment that will be ignored by R. My comments all start with `##`; you can add your own, possibly using `#` or `###` to distinguish your comments from mine.\n",
    "\n",
    "Exercise 0\n",
    "----------\n",
    "\n",
    "The purpose of this exercise is mostly to give you an opportunity to explore the interface provided by RStudio (or whichever GUI you've decided to use). You may not know how to do these things; that's fine! This is an opportunity to learn. If you don't know how to do something you can can use internet search engines, search on [StackOverflow](http:stackoverflow.com), or ask the person next to you.\n",
    "\n",
    "Also keep in mind that we are living in a golden age of tab completion. If you don't know the name of an R function, try guessing the first two or three letters and pressing TAB. If you guessed correctly the function you are looking for should appear in a pop up!\n",
    "\n",
    "1.  Try to get R to add 2 plus 2.\n",
    "2.  Try to calculate the square root of 10.\n",
    "3.  There is an R package named `car` (Companion to Applied Regression). Try to install this package.\n",
    "4.  R includes extensive documentation, including a file named \"An introduction to R\". Try to find this help file.\n",
    "5.  Go to <http://cran.r-project.org/web/views/> and skim the topic closest to your field/interests.\n",
    "\n",
    "Data and Functions\n",
    "==================\n",
    "\n",
    "Assignment\n",
    "----------\n",
    "\n",
    "Values can be assigned names and used in subsequent operations\n",
    "\n",
    "-   The `<-` operator (less than followed by a dash) is used to save values\n",
    "-   The name on the left gets the value on the right."
   ]
  },
  {
   "cell_type": "code",
   "execution_count": null,
   "metadata": {},
   "outputs": [],
   "source": [
    "  x <- 10 # Assign the value 10 to a variable named x\n",
    "  x + 1 # Add 1 to x\n",
    "  y <- x + 1 # Assign y the value x + 1\n",
    "  y"
   ]
  },
  {
   "cell_type": "markdown",
   "metadata": {},
   "source": [
    "Saved variables can be listed, overwritten and deleted"
   ]
  },
  {
   "cell_type": "code",
   "execution_count": null,
   "metadata": {},
   "outputs": [],
   "source": [
    "  ls() # List variables in workspace\n",
    "  x # Print the value of x\n",
    "  x <- 100 # Overwrite x. Note that no warning is given!\n",
    "  x\n",
    "  rm(x) # Delete x\n",
    "  ls()"
   ]
  },
  {
   "cell_type": "markdown",
   "metadata": {},
   "source": [
    "Functions\n",
    "---------\n",
    "\n",
    "Using R is mostly about applying **functions** to **variables**. Functions\n",
    "\n",
    "-   take **variable(s)** as input **argument(s)**\n",
    "-   perform operations\n",
    "-   **return** values which can be **assigned**\n",
    "-   optionally perform side-effects such as writing a file to disk or opening a graphics window\n",
    "\n",
    "The general form for calling R functions is src<sub>R</sub>\\[\\]{FunctionName(arg.1, arg.2, ... arg.n)}\n",
    "\n",
    "Arguments can be matched by position or name\n",
    "\n",
    "Examples:"
   ]
  },
  {
   "cell_type": "code",
   "execution_count": null,
   "metadata": {},
   "outputs": [],
   "source": [
    "  #?sqrt\n",
    "  a <- sqrt(y) # Call the sqrt function with argument x=y\n",
    "  round(a, digits = 2) # Call round() with arguments x=x and digits=2\n",
    "  # Functions can be nested so an alternative is\n",
    "  round(sqrt(y), digits = 5) # Take sqrt of a and round"
   ]
  },
  {
   "cell_type": "markdown",
   "metadata": {},
   "source": [
    "R packages\n",
    "==========\n",
    "\n",
    "There are thousands of R packages that extend R's capabilities.\n",
    "\n",
    "-   To see what packages are loaded:\n",
    "\n",
    "src<sub>R</sub>\\[\\]{search()}\n",
    "\n",
    "-   To view available packages:\n",
    "\n",
    "src<sub>R</sub>\\[\\]{library()}\n",
    "\n",
    "-   To load a package:\n",
    "\n",
    "src<sub>R</sub>\\[\\]{library(\"car\")}\n",
    "\n",
    "-   Install new package:\n",
    "\n",
    "src<sub>R</sub>\\[\\]{install.packages(\"stringdist\")}\n",
    "\n",
    "Getting data into R\n",
    "===================\n",
    "\n",
    "The gss dataset\n",
    "---------------\n",
    "\n",
    "The next few examples use a subset of the General Social Survey data set. The variables in this subset include those described below."
   ]
  },
  {
   "cell_type": "markdown",
   "metadata": {},
   "source": [
    "``` org\n",
    "  | var     | description                      |\n",
    "  |---------+----------------------------------|\n",
    "  | marital | marital status                   |\n",
    "  | age     | age of respondent                |\n",
    "  | educ    | highest year of school completed |\n",
    "  | sex     | respondents sex                  |\n",
    "  | inc     | respondents income               |\n",
    "  | happy   | general happiness                |\n",
    "  | region  |                                  |\n",
    "```\n"
   ]
  },
  {
   "cell_type": "markdown",
   "metadata": {},
   "source": [
    "The \"working directory\" and listing files\n",
    "-----------------------------------------\n",
    "\n",
    "R knows the directory it was started in, and refers to this as the \"working directory\". Since our workshop examples are in the Rintro folder on the desktop, we should all take a moment to set that as our working directory:"
   ]
  },
  {
   "cell_type": "code",
   "execution_count": null,
   "metadata": {},
   "outputs": [],
   "source": [
    "  setwd(\"~/Desktop/Rintro\")"
   ]
  },
  {
   "cell_type": "markdown",
   "metadata": {},
   "source": [
    "We can also set the working directory using paths relative to the current working directory:"
   ]
  },
  {
   "cell_type": "code",
   "execution_count": null,
   "metadata": {},
   "outputs": [],
   "source": [
    "  getwd() # get the current working directory\n",
    "  setwd(\"dataSets\") # set wd to the dataSets folder\n",
    "  getwd()\n",
    "  setwd(\"..\") # set wd to enclosing folder (\"up\")"
   ]
  },
  {
   "cell_type": "markdown",
   "metadata": {},
   "source": [
    "It can be convenient to list files in a directory without leaving R"
   ]
  },
  {
   "cell_type": "code",
   "execution_count": null,
   "metadata": {},
   "outputs": [],
   "source": [
    "  list.files(\"dataSets\") # list files in the dataSets folder\n",
    "  # list.files(\"dataSets\", pattern = \".csv\") # restrict to .csv files  "
   ]
  },
  {
   "cell_type": "markdown",
   "metadata": {},
   "source": [
    "Importing data from files the easy way\n",
    "--------------------------------------\n",
    "\n",
    "In order to read data from a file, you usually have to know what kind of file it is. The table below lists some common data types.\n",
    "\n",
    "| Common data types      |\n",
    "|------------------------|\n",
    "| comma separated (.csv) |\n",
    "| Stata (.dta)           |\n",
    "| SPSS (.sav)            |\n",
    "| SAS (.sas7bdat)        |\n",
    "| Excel (.xls, .xlsx)    |\n",
    "\n",
    "R is smart enough to recognize most common file formats for us using the `import()` function. To use this functionality we first need to install and attache the `rio` package."
   ]
  },
  {
   "cell_type": "code",
   "execution_count": null,
   "metadata": {},
   "outputs": [],
   "source": [
    "  ## install and load the rio package\n",
    "  # install.packages(\"rio\")\n",
    "  library(rio)\n",
    "  ## import data from a variety of formats\n",
    "  # read gss data from the gss.rds R file\n",
    "  datGSS <- import(\"dataSets/gss.rds\")\n",
    "  # read gss data from the gss.csv comma separated file\n",
    "  gss.data <- import(\"dataSets/gss.csv\")\n",
    "  # read a Stata dataset from gss.dta \n",
    "  datGSS <- import(\"dataSets/gss.dta\")"
   ]
  },
  {
   "cell_type": "markdown",
   "metadata": {},
   "source": [
    "Importing data from files the hard way\n",
    "--------------------------------------\n",
    "\n",
    "In order to read data from a file, you have to know what kind of file it is. The table below lists the functions needed to import data from common file formats.\n",
    "\n",
    "| data type                  | function                | package         |\n",
    "|----------------------------|-------------------------|-----------------|\n",
    "| comma separated (.csv)     | read.csv()              | utils (default) |\n",
    "| other delimited formats    | read.table()            | utils (default) |\n",
    "| Stata version 7-12 (.dta)  | read.dta()              | foreign         |\n",
    "| Stata version 13-14 (.dta) | read<sub>dta</sub>()    | haven           |\n",
    "| SPSS (.sav)                | read.spss()             | foreign         |\n",
    "| SAS (.sas7bdat)            | read.sas7bdat()         | sas7bdat        |\n",
    "| Excel (.xls, .xlsx)        | readWorksheetFromFile() | XLConnect       |\n",
    "\n",
    "Examples:"
   ]
  },
  {
   "cell_type": "code",
   "execution_count": null,
   "metadata": {},
   "outputs": [],
   "source": [
    "  # read gss data from the gss.rds R file\n",
    "  datGSS <- readRDS(\"dataSets/gss.rds\")\n",
    "  # read gss data from the gss.csv comma separated file\n",
    "  gss.data <- read.csv(\"dataSets/gss.csv\") # read gss data\n",
    "  # read a Stata dataset from gss.dta \n",
    "  library(foreign) # load foreign data functions\n",
    "  datGSS <- read.dta(file=\"dataSets/gss.dta\")"
   ]
  },
  {
   "cell_type": "markdown",
   "metadata": {},
   "source": [
    "Checking imported data\n",
    "----------------------\n",
    "\n",
    "Always a good idea to examine the imported data set--usually we want the results to be a `data.frame`"
   ]
  },
  {
   "cell_type": "code",
   "execution_count": null,
   "metadata": {},
   "outputs": [],
   "source": [
    "  class(datGSS) # check to see that test is what we expect it to be\n",
    "  dim(datGSS) # how many rows and columns?\n",
    "  names(datGSS) # or colnames(datGSS)\n",
    "  str(datGSS[1:10]) # more details about the first 10 columns"
   ]
  },
  {
   "cell_type": "markdown",
   "metadata": {},
   "source": [
    "Saving and loading R workspaces\n",
    "-------------------------------\n",
    "\n",
    "In addition to importing individual datasets, R can save and load entire workspaces\n",
    "\n",
    "-   Save our entire workspace"
   ]
  },
  {
   "cell_type": "code",
   "execution_count": null,
   "metadata": {},
   "outputs": [],
   "source": [
    "  ls() # list objects in our workspace\n",
    "  save.image(file=\"myWorkspace.RData\") # save workspace \n",
    "  rm(list=ls()) # remove all objects from our workspace \n",
    "  ls() # list stored objects to make sure they are deleted"
   ]
  },
  {
   "cell_type": "markdown",
   "metadata": {},
   "source": [
    "-   Load the \"myWorkspace.RData\" file and check that it is restored"
   ]
  },
  {
   "cell_type": "code",
   "execution_count": null,
   "metadata": {},
   "outputs": [],
   "source": [
    "  load(\"myWorkspace.RData\") # load myWorkspace.RData\n",
    "  ls() # list objects"
   ]
  },
  {
   "cell_type": "markdown",
   "metadata": {},
   "source": [
    "When you close R you will be asked if you want to save your workspace -- if you choose yes then your workspace will be restored next time you start R\n",
    "\n",
    "Exercise 1\n",
    "----------\n",
    "\n",
    "1.  Install and attach the `rio` package if you haven't already done so\n",
    "\n",
    "2.  Read the SPSS data set in dataSets/gss.sav and assign the result to an R data object named GSS.sav\n",
    "\n",
    "3.  Make sure that the data loaded in step 2 is a data.frame\n",
    "\n",
    "4.  Display the dimensions of the GSS.sav\n",
    "\n",
    "5.  BONUS: figure out how to read the Excel file \"gss.xlsx\" into R\n",
    "\n",
    "Asking R for help\n",
    "=================\n",
    "\n",
    "R has extensive built-in documentation that can be accessed through R commands or through the GUI.\n",
    "\n",
    "-   Start html help, search/browse using web browser\n",
    "    -   at the R console:\n",
    "\n",
    "src<sub>R</sub>\\[\\]{help.start()}\n",
    "\n",
    "-   or use the help menu from you GUI\n",
    "-   Look up the documentation for a function\n",
    "\n",
    "src<sub>R</sub>\\[\\]{help(plot)} src<sub>R</sub>\\[\\]{?kmeans}\n",
    "\n",
    "-   Look up documentation for a package\n",
    "\n",
    "src<sub>R</sub>\\[\\]{help(package=\"stats\")}\n",
    "\n",
    "-   Search documentation from R (not always the best way... google often works better)\n",
    "\n",
    "src<sub>R</sub>\\[\\]{help.search(\"classification\")}\n",
    "\n",
    "Data Manipulation\n",
    "=================\n",
    "\n",
    "data.frame objects\n",
    "------------------\n",
    "\n",
    "-   Usually data read into R will be stored as a **data.frame**\n",
    "\n",
    "-   A data.frame is a list of vectors of equal length\n",
    "    -   Each vector in the list forms a column\n",
    "    -   Each column can be a differnt type of vector\n",
    "    -   Often the columns are variables and the rows are observations\n",
    "-   A data.frame has two dimensions corresponding the number of rows and the number of columns (in that order)\n",
    "\n",
    "Extracting subsets of data.frames\n",
    "---------------------------------\n",
    "\n",
    "You can extract subsets of data.frames using the `subset()` function[1]. Use the `select` argument to select columns:"
   ]
  },
  {
   "cell_type": "code",
   "execution_count": null,
   "metadata": {},
   "outputs": [],
   "source": [
    "  # selecting specifig columns\n",
    "  head(# first n rows\n",
    "       subset(datGSS,            \n",
    "              select = 1:4 # column 1 to 5\n",
    "              ),\n",
    "       n = 10# show first 10 rows\n",
    "       )"
   ]
  },
  {
   "cell_type": "markdown",
   "metadata": {},
   "source": [
    "and the `subset` argument to select rows:"
   ]
  },
  {
   "cell_type": "code",
   "execution_count": null,
   "metadata": {},
   "outputs": [],
   "source": [
    "  subset(datGSS,\n",
    "         # rows where age > 90\n",
    "         subset = age > 90,\n",
    "         ## sex and age columns\n",
    "         select = c(\"sex\", \"age\"))\n",
    "\n",
    "  ## the $ operator can be used to extract a single column\n",
    "  str(datGSS$age)"
   ]
  },
  {
   "cell_type": "markdown",
   "metadata": {},
   "source": [
    "In the previous example we used `>` to select rows where age was greater than 90. Other relational and logical operators are listed below.\n",
    "\n",
    "| Operator | Meaning                  |\n",
    "|----------|--------------------------|\n",
    "| ==       | equal to                 |\n",
    "| !=       | not equal to             |\n",
    "| &gt;     | greater than             |\n",
    "| &gt;=    | greater than or equal to |\n",
    "| &lt;     | less than                |\n",
    "| &lt;=    | less than or equal to    |\n",
    "| &        | and                      |\n",
    "| |        | or                       |\n",
    "\n",
    "Transforming data.frames\n",
    "------------------------\n",
    "\n",
    "You can modify data.frames using the `transform()` function."
   ]
  },
  {
   "cell_type": "code",
   "execution_count": null,
   "metadata": {},
   "outputs": [],
   "source": [
    "  # creating new variable mean centered age\n",
    "  datGSS <- transform(datGSS,\n",
    "                      ageC = age - mean(age))\n",
    "\n",
    "   #education difference between wifes and husbands\n",
    "  datGSS <- transform(datGSS,\n",
    "                      educ.diff = wifeduc - husbeduc)\n",
    "\n",
    "  datGSS$wifeduc_comp <- ifelse(\n",
    "                           is.na(datGSS$wifeduc), #condition\n",
    "                           mean(datGSS$wifeduc, na.rm=TRUE), # value if condition met\n",
    "                           datGSS$wifeduc) # value otherwise\n",
    "\n",
    "    ## examine our newly created variables\n",
    "  head(subset(datGSS,\n",
    "              select = c(\"age\", \"ageC\", \"wifeduc\", \"wifeduc_comp\",\n",
    "                         \"husbeduc\", \"educ.diff\")), n = 8)"
   ]
  },
  {
   "cell_type": "markdown",
   "metadata": {},
   "source": [
    "Note that `transform` is a convenience function; see `?Extract` for a more powerful way to modify data.frames.\n",
    "\n",
    "Exporting Data\n",
    "--------------\n",
    "\n",
    "Now that we have made some changes to our GSS data set, we might want to save those changes to a file. Everything we have done so far has only modified the data in R; the files have remained unchanged."
   ]
  },
  {
   "cell_type": "code",
   "execution_count": null,
   "metadata": {},
   "outputs": [],
   "source": [
    "  # write data to a .csv file\n",
    "  write.csv(datGSS, file = \"gss.csv\")\n",
    "  # write data to a Stata file\n",
    "  write.dta(datGSS, file = \"gss.dta\")\n",
    "  # write data to an R file\n",
    "  saveRDS(datGSS, file = \"gss.rds\")"
   ]
  },
  {
   "cell_type": "markdown",
   "metadata": {},
   "source": [
    "Exercise 2: Data manipulation\n",
    "-----------------------------\n",
    "\n",
    "Use the gss.rds data set\n",
    "\n",
    "1.  Generate the following variables:\n",
    "    -   \"rich\" equal to 0 if rincdol is less than 100000, and 1 otherwise\n",
    "    -   \"sinc\" equal to incomdol - rincdol\n",
    "\n",
    "2.  Create a subset of the data containing only rows where \"usecomp\" = \"Yes\"\n",
    "3.  Examine the data.frame created in step 2, and answer the following questions:\n",
    "    -   How many rows does it have?\n",
    "    -   How many columns does it have?\n",
    "    -   What is the class of the \"satjob\" variable?\n",
    "\n",
    "4.  BONUS (hard): Generate a variable named \"dual.earn\" equal to 1 if both wkftwife = 1 and wkfthusb = 1, and zero otherwise\n",
    "\n",
    "Basic Statistics and Graphs\n",
    "===========================\n",
    "\n",
    "Basic statistics\n",
    "----------------\n",
    "\n",
    "Descriptive statistics of single variables are straightforward:"
   ]
  },
  {
   "cell_type": "code",
   "execution_count": null,
   "metadata": {},
   "outputs": [],
   "source": [
    "  mean(datGSS$educ) # calculate mean value of education\n",
    "  sd(datGSS$educ) # calculate standard deviation of x\n",
    "  # calculate min, max, quantiles, mean of educ, age, and ageC\n",
    "  summary(subset(datGSS, select = c(\"educ\", \"age\", \"ageC\")))"
   ]
  },
  {
   "cell_type": "markdown",
   "metadata": {},
   "source": [
    "Some of these functions (e.g., summary) will also work with data.frames and other types of objects, others (such as `sd`) will not.\n",
    "\n",
    "Counts and proportions\n",
    "----------------------\n",
    "\n",
    "Start by using the `table()` function to tabulate counts, then perform additional computations if needed"
   ]
  },
  {
   "cell_type": "code",
   "execution_count": null,
   "metadata": {},
   "outputs": [],
   "source": [
    "  sex.counts <- table(datGSS$sex) # tabulate sex categories\n",
    "  sex.counts\n",
    "  prop.table(sex.counts) # convert to proportions"
   ]
  },
  {
   "cell_type": "markdown",
   "metadata": {},
   "source": [
    "Add variables for crosstabs"
   ]
  },
  {
   "cell_type": "code",
   "execution_count": null,
   "metadata": {},
   "outputs": [],
   "source": [
    "  table(subset(datGSS, select = c(\"sex\", \"happy\"))) # crosstab marital X happy"
   ]
  },
  {
   "cell_type": "markdown",
   "metadata": {},
   "source": [
    "Statistics by classification factors\n",
    "------------------------------------\n",
    "\n",
    "The `by()` function can be used to perform a calculation separately for each level of a classifying variable"
   ]
  },
  {
   "cell_type": "code",
   "execution_count": null,
   "metadata": {},
   "outputs": [],
   "source": [
    "  by(subset(datGSS, select = c(\"income\", \"educ\")),\n",
    "     INDICES=datGSS[\"sex\"],\n",
    "     FUN=summary)"
   ]
  },
  {
   "cell_type": "markdown",
   "metadata": {},
   "source": [
    "Correlations\n",
    "------------\n",
    "\n",
    "Let's look at correlations among between age, income, and education"
   ]
  },
  {
   "cell_type": "code",
   "execution_count": null,
   "metadata": {},
   "outputs": [],
   "source": [
    "  cor(subset(datGSS, select =  c(\"age\", \"incomdol\", \"educ\")))"
   ]
  },
  {
   "cell_type": "markdown",
   "metadata": {},
   "source": [
    "For significance tests, use cor.test()"
   ]
  },
  {
   "cell_type": "code",
   "execution_count": null,
   "metadata": {},
   "outputs": [],
   "source": [
    "  with(datGSS,\n",
    "       cor.test(age, educ))"
   ]
  },
  {
   "cell_type": "markdown",
   "metadata": {},
   "source": [
    "Multiple regression\n",
    "-------------------\n",
    "\n",
    "Modeling functions generally use the *formula* interface whith DV on left followed by \"~\" followed by predictors--for details see src<sub>R</sub>\\[\\]{help(\"formula\")}\n",
    "\n",
    "-   Predict the number of hours individuals spend on email (emailhrs)"
   ]
  },
  {
   "cell_type": "code",
   "execution_count": null,
   "metadata": {},
   "outputs": [],
   "source": [
    "  m1 <- lm(educ ~ sex + age, data = datGSS)\n",
    "  summary(m1)"
   ]
  },
  {
   "cell_type": "markdown",
   "metadata": {},
   "source": [
    "Save R output to a file\n",
    "-----------------------\n",
    "\n",
    "Earlier we learned how to write a data set to a file. But what if we want to write something that isn't in a nice rectangular format, like the results of our regression model? For that we can use the `sink()` function:"
   ]
  },
  {
   "cell_type": "code",
   "execution_count": null,
   "metadata": {},
   "outputs": [],
   "source": [
    "  sink(file=\"output.txt\", split=TRUE) # start logging\n",
    "  print(\"This is the result from model 1\\n\")\n",
    "  print(summary(m1))\n",
    "  sink() ## sink with no arguments turns logging off"
   ]
  },
  {
   "cell_type": "markdown",
   "metadata": {},
   "source": [
    "Basic graphics: Frequency bars\n",
    "------------------------------\n",
    "\n",
    "Thanks to classes and methods, you can `plot()` many kinds of objects:"
   ]
  },
  {
   "cell_type": "code",
   "execution_count": null,
   "metadata": {},
   "outputs": [],
   "source": [
    "  plot(datGSS$marital) # Plot a factor"
   ]
  },
  {
   "cell_type": "markdown",
   "metadata": {},
   "source": [
    "![](images/examplePlot1.png)\n",
    "\n",
    "Basic graphics: Boxplots by group\n",
    "---------------------------------\n",
    "\n",
    "Thanks to classes and methods, you can `plot()` many kinds of objects:"
   ]
  },
  {
   "cell_type": "code",
   "execution_count": null,
   "metadata": {},
   "outputs": [],
   "source": [
    "  with(datGSS,\n",
    "       plot(marital, educ)) # Plot ordinal by numeric"
   ]
  },
  {
   "cell_type": "markdown",
   "metadata": {},
   "source": [
    "![](images/examplePlot2.png)\n",
    "\n",
    "Basic graphics: Mosaic chart\n",
    "----------------------------\n",
    "\n",
    "Thanks to classes and methods, you can `plot()` many kinds of objects:"
   ]
  },
  {
   "cell_type": "code",
   "execution_count": null,
   "metadata": {},
   "outputs": [],
   "source": [
    "  with(datGSS, # Plot factor X factor\n",
    "       plot(marital, happy))"
   ]
  },
  {
   "cell_type": "markdown",
   "metadata": {},
   "source": [
    "![](images/examplePlot3.png)\n",
    "\n",
    "Exercise 3\n",
    "----------\n",
    "\n",
    "Using the datGSS data.frame\n",
    "\n",
    "1.  Cross-tabulate sex and emailhrs\n",
    "2.  Calculate the mean and standard deviation of incomdol by sex\n",
    "3.  Save the results of the previous two calculations to a file\n",
    "4.  Create a scatter plot with educ on the x-axis and incomdol on the y-axis\n",
    "\n",
    "Wrap-up\n",
    "=======\n",
    "\n",
    "Help us make this workshop better!\n",
    "----------------------------------\n",
    "\n",
    "-   Please take a moment to fill out a very short feedback form\n",
    "-   These workshops exist for you – tell us what you need!\n",
    "-   <http://tinyurl.com/R-intro-feedback>\n",
    "\n",
    "Additional resources\n",
    "--------------------\n",
    "\n",
    "-   IQSS workshops: <http://projects.iq.harvard.edu/rtc/filter_by/workshops>\n",
    "-   IQSS statistical consulting: <http://dss.iq.harvard.edu>\n",
    "-   Software (all free!):\n",
    "    -   R and R package download: <http://cran.r-project.org>\n",
    "    -   Rstudio download: <http://rstudio.org>\n",
    "    -   ESS (emacs R package): <http://ess.r-project.org/>\n",
    "-   Online tutorials\n",
    "    -   <http://www.codeschool.com/courses/try-r>\n",
    "    -   <http://www.datamind.org>\n",
    "-   Getting help:\n",
    "    -   Documentation and tutorials: <http://cran.r-project.org/other-docs.html>\n",
    "    -   Recommended R packages by topic: <http://cran.r-project.org/web/views/>\n",
    "    -   Mailing list: <https://stat.ethz.ch/mailman/listinfo/r-help>\n",
    "    -   StackOverflow: <http://stackoverflow.com/questions/tagged/r>\n",
    "\n",
    "Exercise solutions\n",
    "==================\n",
    "\n",
    "Exercise 0 solution<span class=\"tag\" data-tag-name=\"prototype\"></span>\n",
    "----------------------------------------------------------------------\n",
    "\n",
    "1.  \\[@1\\] \\] Try to get R to add 2 plus 2."
   ]
  },
  {
   "cell_type": "code",
   "execution_count": null,
   "metadata": {},
   "outputs": [],
   "source": [
    "  2 + 2"
   ]
  },
  {
   "cell_type": "markdown",
   "metadata": {},
   "source": [
    "1.  \\[@2\\] Try to figure out how evaluate lines directly from your R script.\n",
    "\n",
    "=In Rstudo this is 'Control-Enter'; may be different in another GUI=\n",
    "\n",
    "1.  \\[@3\\] R includes extensive documentation, including a file named \"An introduction to R\". Try to find this help file.\n",
    "\n",
    "=Go to the main help page by running 'help.start() or using the GUI menu, find and click on the link to \"An Introduction to R\".=\n",
    "\n",
    "1.  \\[@4\\] Go to <http://cran.r-project.org/web/views/> and skim the topic closest to your field/interests.\n",
    "\n",
    "=I like the machine learning topic=\n",
    "\n",
    "Exercise 1 solution<span class=\"tag\" data-tag-name=\"prototype\"></span>\n",
    "----------------------------------------------------------------------\n",
    "\n",
    "1.  \\[@1\\] Attach the `rio` package if you haven't already done so"
   ]
  },
  {
   "cell_type": "code",
   "execution_count": null,
   "metadata": {},
   "outputs": [],
   "source": [
    "  ## install.packages(\"rio\")\n",
    "  library(rio)"
   ]
  },
  {
   "cell_type": "markdown",
   "metadata": {},
   "source": [
    "1.  \\[@2\\] Read the SPSS data set in dataSets/gss.sav and assign the result to an R data object named GSS.sav"
   ]
  },
  {
   "cell_type": "code",
   "execution_count": null,
   "metadata": {},
   "outputs": [],
   "source": [
    "  gss.data <- import(\"dataSets/gss.sav\")"
   ]
  },
  {
   "cell_type": "markdown",
   "metadata": {},
   "source": [
    "1.  \\[@3\\] Make sure that the data loaded in step 2 is a data.frame (hint: check the arguments documented in the help page)"
   ]
  },
  {
   "cell_type": "code",
   "execution_count": null,
   "metadata": {},
   "outputs": [],
   "source": [
    "  class(gss.data)"
   ]
  },
  {
   "cell_type": "markdown",
   "metadata": {},
   "source": [
    "1.  \\[@4\\] Display the dimensions of the GSS.sav."
   ]
  },
  {
   "cell_type": "code",
   "execution_count": null,
   "metadata": {},
   "outputs": [],
   "source": [
    "  dim(gss.data)\n",
    "  nrow(gss.data)\n",
    "  ncol(gss.data)"
   ]
  },
  {
   "cell_type": "markdown",
   "metadata": {},
   "source": [
    "1.  \\[@6\\] BONUS: figure out how to read the Excel file \"gss.xlsx\" into R"
   ]
  },
  {
   "cell_type": "code",
   "execution_count": null,
   "metadata": {},
   "outputs": [],
   "source": [
    "  dat <- import(\"dataSets/gss.xlsx\")\n",
    "  class(dat); dim(dat)"
   ]
  },
  {
   "cell_type": "markdown",
   "metadata": {},
   "source": [
    "Exercise 2 solution<span class=\"tag\" data-tag-name=\"prototype\"></span>\n",
    "----------------------------------------------------------------------\n",
    "\n",
    "Use the gss.rds data set"
   ]
  },
  {
   "cell_type": "code",
   "execution_count": null,
   "metadata": {},
   "outputs": [],
   "source": [
    "  gss <- import(\"dataSets/gss.rds\")"
   ]
  },
  {
   "cell_type": "markdown",
   "metadata": {},
   "source": [
    "1.  \\[@1\\] Create a subset of the data containing only rows where \"usecomp\" = \"Yes\". How many computer users are there?"
   ]
  },
  {
   "cell_type": "code",
   "execution_count": null,
   "metadata": {},
   "outputs": [],
   "source": [
    "  gss.usecomp <- subset(gss, usecomp == \"Yes\")\n",
    "  nrow(gss.usecomp)"
   ]
  },
  {
   "cell_type": "markdown",
   "metadata": {},
   "source": [
    "1.  \\[@2\\] Generate the following variables:\n",
    "    -   \"rich\" equal to 0 if rincdol is less than 100000, and 1 otherwise\n",
    "    -   \"sinc\" equal to incomdol - rincdol"
   ]
  },
  {
   "cell_type": "code",
   "execution_count": null,
   "metadata": {},
   "outputs": [],
   "source": [
    "  gss <- transform(gss,\n",
    "                   rich = ifelse(rincdol < 100000, 0, 1),\n",
    "                   sinc = incomdol - rincdol)\n",
    "  head(subset(gss, select = c(\"rincdol\", \"incomdol\", \"rich\", \"sinc\")))"
   ]
  },
  {
   "cell_type": "markdown",
   "metadata": {},
   "source": [
    "1.  \\[@3\\] Generate a variable named \"dual.earn\" equal to 1 if both wkftwife = 1 and wkfthusb = 1, and zero otherwise. How many dual earners are there?"
   ]
  },
  {
   "cell_type": "code",
   "execution_count": null,
   "metadata": {},
   "outputs": [],
   "source": [
    "  gss$dual.earn <- ifelse(gss$wkftwife == 1 & gss$wkfthusb == 1, 1, 0)\n",
    "  nrow(subset(gss, dual.earn == 1))"
   ]
  },
  {
   "cell_type": "markdown",
   "metadata": {},
   "source": [
    "Exercise 3 solution<span class=\"tag\" data-tag-name=\"prototype\"></span>\n",
    "----------------------------------------------------------------------\n",
    "\n",
    "Using the datGSS data.frame\n",
    "\n",
    "1.  \\[@1\\] Cross-tabulate sex and emailhrs"
   ]
  },
  {
   "cell_type": "code",
   "execution_count": null,
   "metadata": {},
   "outputs": [],
   "source": [
    "  with(datGSS, table(emailhrs, sex))"
   ]
  },
  {
   "cell_type": "markdown",
   "metadata": {},
   "source": [
    "1.  \\[@2\\] Calculate the mean and standard deviation of incomdol by sex"
   ]
  },
  {
   "cell_type": "code",
   "execution_count": null,
   "metadata": {},
   "outputs": [],
   "source": [
    "  by(datGSS$incomdol, datGSS$sex, mean)\n",
    "  by(datGSS$incomdol, datGSS$sex, sd)"
   ]
  },
  {
   "cell_type": "markdown",
   "metadata": {},
   "source": [
    "1.  \\[@3\\] Create a scatter plot with educ on the x-axis and incomdol on the y-axis"
   ]
  },
  {
   "cell_type": "code",
   "execution_count": null,
   "metadata": {},
   "outputs": [],
   "source": [
    "  plot(subset(datGSS, select = c(\"educ\", \"incomdol\")))"
   ]
  },
  {
   "cell_type": "markdown",
   "metadata": {},
   "source": [
    "`That first attempt is pretty ugly, let's clean it up.`"
   ]
  },
  {
   "cell_type": "code",
   "execution_count": null,
   "metadata": {},
   "outputs": [],
   "source": [
    "  plot(log(incomdol) ~ jitter(educ, 8), # formula interface with log an jitter\n",
    "       data = subset(datGSS, # subsetting data as part of the plot call\n",
    "                     subset = educ < 97),\n",
    "       cex = .6 # make points smaller\n",
    "       )"
   ]
  },
  {
   "cell_type": "markdown",
   "metadata": {},
   "source": [
    "[1] Note that `subset()` is a convenience function; see `?Extract` for a more powerful (and complicated) way to subset data."
   ]
  }
 ],
 "metadata": {
        "kernelspec": {
            "display_name": "R",
            "language": "R",
            "name": "ir"
        },
        "language_info": {
            "codemirror_mode": "r",
            "file_extension": ".r",
            "mimetype": "text/x-r-source",
            "name": "R",
            "pygments_lexer": "r",
            "version": "3.2.3"
        }
    },
 "nbformat": 4,
 "nbformat_minor": 0
}
