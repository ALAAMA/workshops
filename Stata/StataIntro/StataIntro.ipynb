{
 "cells": [
  {
   "cell_type": "markdown",
   "metadata": {},
   "source": [
    "Introduction\n",
    "============\n",
    "\n",
    "Materials and setup<span class=\"tag\" data-tag-name=\"labsetup\"></span>\n",
    "---------------------------------------------------------------------\n",
    "\n",
    "Laptop users: you will need a copy of Stata installed on your machine. Harvard FAS affiliates can install a licensed version from <http://downloads.fas.harvard.edu/download>\n",
    "\n",
    "Lab computer users: log in using\n",
    "\n",
    "USERNAME  \n",
    "dataclass\n",
    "\n",
    "PASSWORD  \n",
    "on the board to your left\n",
    "\n",
    "Everyone:\n",
    "\n",
    "-   Find class materials at <http://tutorials.iq.harvard.edu/Stata/StataIntro.zip>\n",
    "-   Download and extract to your desktop!\n",
    "\n",
    "Materials and setup<span class=\"tag\" data-tag-name=\"mitsetup\"></span>\n",
    "---------------------------------------------------------------------\n",
    "\n",
    "Laptop users: you will need a copy of Stata installed on your machine\n",
    "\n",
    "Lab computer users: log in using your Athena user name and password\n",
    "\n",
    "Everyone:\n",
    "\n",
    "-   Find class materials at <http://tutorials.iq.harvard.edu/Stata/StataIntro.zip>\n",
    "-   Download and extract to your desktop!\n",
    "\n",
    "Organization\n",
    "------------\n",
    "\n",
    "-   Please feel free to ask questions at any point if they are relevant to the current topic (or if you are lost!)\n",
    "    -   There will be a Q&A after class for more specific, personalized questions\n",
    "-   Collaboration with your neighbors is encouraged\n",
    "-   If you are using a laptop, you will need to adjust paths accordingly\n",
    "-   Make comments in your Do-file rather than on hand-outs\n",
    "    -   save on flash drive or email to yourself\n",
    "\n",
    "Workshop descripton\n",
    "-------------------\n",
    "\n",
    "-   This is an **introduction** to Stata\n",
    "-   Assumes no/very little knowledge of Stata\n",
    "-   Not appropriate for people already well familiar with Stata\n",
    "-   Learning Objectives:\n",
    "    -   Familiarize yourself with the Stata interface\n",
    "    -   Get data in and out of Stata\n",
    "    -   Compute statistics and construct graphical displays\n",
    "    -   Compute new variables and transformations\n",
    "\n",
    "Why stata?\n",
    "----------\n",
    "\n",
    "-   Used in a variety of disciplines\n",
    "-   User-friendly\n",
    "-   Great guides available on web (as well as in HMDC computer lab library)\n",
    "-   Student and other discount packages available at reasonable cost\n",
    "\n",
    "Stata interface\n",
    "---------------\n",
    "\n",
    "![](images/StataInterface.png)\n",
    "\n",
    "-   Review and Variable windows can be closed (user preference)\n",
    "-   Command window can be shortened (recommended)\n",
    "\n",
    "Do-files\n",
    "--------\n",
    "\n",
    "-   You can type all the same commands into the Do-file that you would type into the command window\n",
    "-   BUT...the Do-file allows you to **save** your commands\n",
    "-   Your Do-file should contain ALL commands you executed -- at least all the \"correct\" commands!\n",
    "-   I recommend never using the command window or menus to make CHANGES to data\n",
    "-   Saving commands in Do-file allows you to keep a written record of everything you have done to your data\n",
    "    -   Allows easy replication\n",
    "    -   Allows you to go back and re-run commands, analyses and make modifications\n",
    "\n",
    "Stata help\n",
    "----------\n",
    "\n",
    "-   Easiest way to get help in Stata - just type **help** followed by topic or command, e.g., **help regress**\n",
    "-   Falls back to \"search\" if command not found\n",
    "-   Generally, if you google \"Stata \\[topic\\],\" you'll get some helpful hits\n",
    "-   UCLA website: <http://www.ats.ucla.edu/stat/Stata/>\n",
    "\n",
    "General Stata command syntax\n",
    "----------------------------\n",
    "\n",
    "-   Most Stata commands follow the same underlying principles **Command varlist, options**, e.g., **sum var1 var2, detail**\n",
    "    -   CAUTION - in some cases, if you type a command and don't specify a variable, Stata will perform the command on all variables in your dataset\n",
    "-   You can find command-specific syntax in the help files\n",
    "\n",
    "Commenting and formatting syntax\n",
    "--------------------------------\n",
    "\n",
    "-   Start with comment describing your Do-file and use comments throughout\n",
    "-   Single line and block comments"
   ]
  },
  {
   "cell_type": "code",
   "execution_count": null,
   "metadata": {
    "attributes": {
     "classes": [
      "stata"
     ],
     "id": ""
    }
   },
   "outputs": [],
   "source": [
    "\n",
    "  // comment\n",
    "   describe var\n",
    "   /*\n",
    "   comment block comment block comment block comment\n",
    "   block comment block comment block \n",
    "  */"
   ]
  },
  {
   "cell_type": "markdown",
   "metadata": {},
   "source": [
    "-   Use */* to break varlists over multiple lines:"
   ]
  },
  {
   "cell_type": "code",
   "execution_count": null,
   "metadata": {
    "attributes": {
     "classes": [
      "stata"
     ],
     "id": ""
    }
   },
   "outputs": [],
   "source": [
    "  // break commands over multible lines\n",
    "  describe var1 var2 var2 ///\n",
    "  var4 var5 var6  "
   ]
  },
  {
   "cell_type": "markdown",
   "metadata": {},
   "source": [
    "Let's get started\n",
    "-----------------\n",
    "\n",
    "-   Launch the Stata program (MP or SE, does not matter unless doing computationally intensive work)\n",
    "    -   Open up a new Do-file\n",
    "    -   Run our first Stata code!"
   ]
  },
  {
   "cell_type": "code",
   "execution_count": null,
   "metadata": {
    "attributes": {
     "classes": [
      "stata"
     ],
     "id": ""
    }
   },
   "outputs": [],
   "source": [
    "  // change directory\n",
    "  cd \"C://Users/dataclass/Desktop/StataIntro\"\n",
    "  // start a log file to record your stata session\n",
    "  log using myStataLog.txt, text replace\n",
    "  // Pause / resume logging with \"log on\" / \"log off\"\n",
    "  // Close lot with \"log close\""
   ]
  },
  {
   "cell_type": "markdown",
   "metadata": {},
   "source": [
    "How to start every do-file\n",
    "--------------------------\n",
    "\n",
    "1.  Describe what the file does\n",
    "2.  Change directory\n",
    "3.  Begin log file\n",
    "4.  Call up data\n",
    "5.  Do stuff: Data manipulation, statistics etc.\n",
    "6.  Save data under new name (if making changes to dataset)\n",
    "\n",
    "Getting data into Stata\n",
    "=======================\n",
    "\n",
    "Data file commands\n",
    "------------------\n",
    "\n",
    "-   Next, we want to open our data file\n",
    "-   Open/save data sets with \"use\" and \"save\":"
   ]
  },
  {
   "cell_type": "code",
   "execution_count": null,
   "metadata": {
    "attributes": {
     "classes": [
      "stata"
     ],
     "id": ""
    }
   },
   "outputs": [],
   "source": [
    "  cd dataSets\n",
    "  // open the gss.dta data set\n",
    "  use gss.dta\n",
    "  // saving your data file:\n",
    "  save newgss.dta, replace\n",
    "  // the \"replace\" option tells stata it's OK to \n",
    "  //   write over an existing file"
   ]
  },
  {
   "cell_type": "markdown",
   "metadata": {},
   "source": [
    "``` example\n",
    "cd dataSets\n",
    "/nfs/home/I/izahn/StataIntro/dataSets\n",
    "\n",
    "use gss.dta\n",
    "\n",
    "save newgss.dta, replace\n",
    "(note: file newgss.dta not found)\n",
    "file newgss.dta saved\n",
    "\n",
    "```\n"
   ]
  },
  {
   "cell_type": "markdown",
   "metadata": {},
   "source": [
    "A note about path names\n",
    "-----------------------\n",
    "\n",
    "-   If your path has no spaces in the name (that means all directories, folders, file names, etc. can have no spaces), you can write the path as is\n",
    "-   If there are spaces, you need to put your pathname in quotes\n",
    "-   Best to get in the habit of quoting paths\n",
    "\n",
    "Where's my data?\n",
    "----------------\n",
    "\n",
    "-   Data editor (**browse**)\n",
    "-   Data editor (**edit**)\n",
    "    -   Using the data editor is discouraged (why?)\n",
    "-   Always keep any changes to your data in your Do-file\n",
    "-   Avoid temptation of making manual changes by viewing data via the browser rather than editor\n",
    "\n",
    "What if my data is not a Stata file?\n",
    "------------------------------------\n",
    "\n",
    "-   Import delimited text files"
   ]
  },
  {
   "cell_type": "code",
   "execution_count": null,
   "metadata": {
    "attributes": {
     "classes": [
      "stata"
     ],
     "id": ""
    }
   },
   "outputs": [],
   "source": [
    "  /* import data from a .csv file */\n",
    "  insheet using gss.csv, clear\n",
    "  /* save data to a .csv file */\n",
    "  outsheet using gss_new.csv, replace comma  "
   ]
  },
  {
   "cell_type": "markdown",
   "metadata": {},
   "source": [
    "``` example\n",
    "\n",
    "insheet using gss.csv, clear\n",
    "(7 vars, 451 obs)\n",
    "\n",
    "outsheet using gss_new.csv, replace comma\n",
    "```\n"
   ]
  },
  {
   "cell_type": "markdown",
   "metadata": {},
   "source": [
    "-   Import data from SAS and Excel"
   ]
  },
  {
   "cell_type": "code",
   "execution_count": null,
   "metadata": {
    "attributes": {
     "classes": [
      "stata"
     ],
     "id": ""
    }
   },
   "outputs": [],
   "source": [
    "    /* import/export SAS xport files */\n",
    "    clear\n",
    "    import sasxport gss.xpt\n",
    "    export sasxport newFileName, replace\n",
    "\n",
    "    /* import/export data from Excel */\n",
    "    import excel using gss.xlsx, firstrow clear\n",
    "    export excel newFileName.xls, replace"
   ]
  },
  {
   "cell_type": "markdown",
   "metadata": {},
   "source": [
    "``` example\n",
    "\n",
    "clear\n",
    "import sasxport gss.xpt\n",
    "export sasxport newFileName, replace\n",
    "warning:  internally recorded dataset name was shortened to newFileN in\n",
    "          newFileName.xpt\n",
    "\n",
    "file newFileName.xpt saved\n",
    "\n",
    "import excel using gss.xlsx, firstrow clear\n",
    "export excel newFileName.xls, replace\n",
    "file newFileName.xls saved\n",
    "```\n"
   ]
  },
  {
   "cell_type": "markdown",
   "metadata": {},
   "source": [
    "What if my data is from another statistical software program?\n",
    "-------------------------------------------------------------\n",
    "\n",
    "-   SPSS/PASW will allow you to save your data as a Stata file\n",
    "    -   Go to: file &gt; save as &gt; Stata (use most recent version available)\n",
    "    -   Then you can just go into Stata and open it\n",
    "-   Another option is **StatTransfer**, a program that converts data from/to many common formats, including SAS, SPSS, Stata, and many more\n",
    "\n",
    "Exercise 1: Importing data\n",
    "--------------------------\n",
    "\n",
    "1.  Close down Stata and open a new session\n",
    "2.  Go through the three steps for starting each Stata session that we reviewed\n",
    "    -   Begin a log file\n",
    "    -   Open your Stata dataset (gss.dta)\n",
    "    -   Save your Stata dataset using a different name\n",
    "\n",
    "3.  Try opening the following files:\n",
    "    -   A comma separated value file: gss.csv\n",
    "    -   A SPSS file: gss.sav\n",
    "    -   A SAS transport file: gss.xpt\n",
    "\n",
    "Statistics and graphs\n",
    "=====================\n",
    "\n",
    "Frequently used commands\n",
    "------------------------\n",
    "\n",
    "-   Commands for reviewing and inspecting data:\n",
    "    -   describe // labels, storage type etc.\n",
    "    -   sum // statistical summary (mean, sd, min/max etc.)\n",
    "    -   codebook // storage type, unique values, labels\n",
    "    -   list // print actuall values\n",
    "    -   tab // (cross) tabulate variables\n",
    "    -   browse // view the data in a spreadsheet-like window\n",
    "-   Examples"
   ]
  },
  {
   "cell_type": "code",
   "execution_count": null,
   "metadata": {
    "attributes": {
     "classes": [
      "stata"
     ],
     "id": ""
    }
   },
   "outputs": [],
   "source": [
    "  use gss.dta, clear\n",
    "   /* commands useful for inspecting data */\n",
    "  //  statistical summary of education\n",
    "  sum educ\n",
    "  // information about how region is coded\n",
    "  codebook region \n",
    "  // numbers of male and female participants\n",
    "  tab sex "
   ]
  },
  {
   "cell_type": "markdown",
   "metadata": {},
   "source": [
    "``` example\n",
    "use gss.dta, clear\n",
    "\n",
    "sum educ\n",
    "\n",
    "    Variable |       Obs        Mean    Std. Dev.       Min        Max\n",
    "-------------+--------------------------------------------------------\n",
    "        educ |       217    13.52995      3.0687          1         20\n",
    "\n",
    "codebook region \n",
    "\n",
    "-------------------------------------------------------------------------------\n",
    "region                                                              (unlabeled)\n",
    "-------------------------------------------------------------------------------\n",
    "\n",
    "                  type:  string (str5)\n",
    "\n",
    "         unique values:  4                        missing \"\":  0/217\n",
    "\n",
    "            tabulation:  Freq.  Value\n",
    "                            54  \"east\"\n",
    "                            48  \"north\"\n",
    "                            48  \"south\"\n",
    "                            67  \"west\"\n",
    "\n",
    "tab sex\n",
    "\n",
    "respondents |\n",
    "        sex |      Freq.     Percent        Cum.\n",
    "------------+-----------------------------------\n",
    "       male |        114       52.53       52.53\n",
    "     female |        103       47.47      100.00\n",
    "------------+-----------------------------------\n",
    "      Total |        217      100.00\n",
    "```\n"
   ]
  },
  {
   "cell_type": "markdown",
   "metadata": {},
   "source": [
    "-   Remember, if you run these commands without specifying variables, Stata will produce output for every variable\n",
    "\n",
    "Basic graphing commands\n",
    "-----------------------\n",
    "\n",
    "-   Univariate distribution(s) using **hist**"
   ]
  },
  {
   "cell_type": "code",
   "execution_count": null,
   "metadata": {
    "attributes": {
     "classes": [
      "stata"
     ],
     "id": ""
    }
   },
   "outputs": [],
   "source": [
    "  /* Histograms */\n",
    "  hist educ\n",
    "  // histogram with normal curve; see 'help hist' for other options\n",
    "  hist age, normal  "
   ]
  },
  {
   "cell_type": "markdown",
   "metadata": {},
   "source": [
    "``` example\n",
    "\n",
    "hist educ\n",
    "(bin=14, start=1, width=1.3571429)\n",
    "\n",
    "hist age, normal\n",
    "(bin=14, start=18, width=4.2142857)\n",
    "```\n"
   ]
  },
  {
   "cell_type": "markdown",
   "metadata": {},
   "source": [
    "-   View bivariate distributions with scatterplots"
   ]
  },
  {
   "cell_type": "code",
   "execution_count": null,
   "metadata": {
    "attributes": {
     "classes": [
      "stata"
     ],
     "id": ""
    }
   },
   "outputs": [],
   "source": [
    "   /* scatterplots */\n",
    "   twoway (scatter educ age)\n",
    "   graph matrix educ age inc"
   ]
  },
  {
   "cell_type": "markdown",
   "metadata": {},
   "source": [
    "``` example\n",
    "\n",
    "twoway (scatter educ age)\n",
    "graph matrix educ age inc\n",
    "```\n"
   ]
  },
  {
   "cell_type": "markdown",
   "metadata": {},
   "source": [
    "The \"by\" command\n",
    "----------------\n",
    "\n",
    "-   Sometimes, you'd like to generate output based on different categories of a grouping variable\n",
    "-   The \"by\" command does just this"
   ]
  },
  {
   "cell_type": "code",
   "execution_count": null,
   "metadata": {
    "attributes": {
     "classes": [
      "stata"
     ],
     "id": ""
    }
   },
   "outputs": [],
   "source": [
    "  /* By Processing */\n",
    "  // tabulate happy separately for men and women\n",
    "  bysort sex: tab happy\n",
    "  // summarize eudcation by marital status\n",
    "  bysort marital: sum educ"
   ]
  },
  {
   "cell_type": "markdown",
   "metadata": {},
   "source": [
    "``` example\n",
    "\n",
    "bysort sex: tab happy\n",
    "\n",
    "-------------------------------------------------------------------------------\n",
    "-> sex = male\n",
    "\n",
    "      general |\n",
    "    happiness |      Freq.     Percent        Cum.\n",
    "--------------+-----------------------------------\n",
    "   very happy |         32       28.07       28.07\n",
    " pretty happy |         68       59.65       87.72\n",
    "not too happy |         14       12.28      100.00\n",
    "--------------+-----------------------------------\n",
    "        Total |        114      100.00\n",
    "\n",
    "-------------------------------------------------------------------------------\n",
    "-> sex = female\n",
    "\n",
    "      general |\n",
    "    happiness |      Freq.     Percent        Cum.\n",
    "--------------+-----------------------------------\n",
    "   very happy |         33       32.04       32.04\n",
    " pretty happy |         61       59.22       91.26\n",
    "not too happy |          9        8.74      100.00\n",
    "--------------+-----------------------------------\n",
    "        Total |        103      100.00\n",
    "\n",
    "bysort marital: sum educ\n",
    "\n",
    "-------------------------------------------------------------------------------\n",
    "-> marital = married\n",
    "\n",
    "    Variable |       Obs        Mean    Std. Dev.       Min        Max\n",
    "-------------+--------------------------------------------------------\n",
    "        educ |       103    13.65049    3.374381          1         20\n",
    "\n",
    "-------------------------------------------------------------------------------\n",
    "-> marital = widowed\n",
    "\n",
    "    Variable |       Obs        Mean    Std. Dev.       Min        Max\n",
    "-------------+--------------------------------------------------------\n",
    "        educ |         6    12.33333     1.36626         11         15\n",
    "\n",
    "-------------------------------------------------------------------------------\n",
    "-> marital = divorced\n",
    "\n",
    "    Variable |       Obs        Mean    Std. Dev.       Min        Max\n",
    "-------------+--------------------------------------------------------\n",
    "        educ |        39    13.46154    2.501012          6         19\n",
    "\n",
    "-------------------------------------------------------------------------------\n",
    "-> marital = separate\n",
    "\n",
    "    Variable |       Obs        Mean    Std. Dev.       Min        Max\n",
    "-------------+--------------------------------------------------------\n",
    "        educ |         9    12.11111    2.803767          6         14\n",
    "\n",
    "-------------------------------------------------------------------------------\n",
    "-> marital = never ma\n",
    "\n",
    "    Variable |       Obs        Mean    Std. Dev.       Min        Max\n",
    "-------------+--------------------------------------------------------\n",
    "        educ |        60        13.7    3.004516          6         20\n",
    "```\n"
   ]
  },
  {
   "cell_type": "markdown",
   "metadata": {},
   "source": [
    "Exercise 2: Descriptive statistics\n",
    "----------------------------------\n",
    "\n",
    "1.  Use the dataset, gss.dta\n",
    "2.  Examine a few selected variables using the describe, sum and codebook commands\n",
    "3.  Tabulate the variable, \"marital,\" with and without labels\n",
    "4.  Summarize the variable, \"income\" separately participants based on marital status\n",
    "5.  Cross-tabulate marital with region and show gender percent by region\n",
    "6.  Summarize the variable, \"happy\" for married individuals only\n",
    "7.  Generate a histogram of income\n",
    "8.  Generate a second histogram of income, but this time, split income based on participants sex and ask Stata to print the normal curve on your histograms\n",
    "\n",
    "Basic data management\n",
    "=====================\n",
    "\n",
    "Labels\n",
    "------\n",
    "\n",
    "-   You never know why and when your data may be reviewed\n",
    "-   ALWAYS label every variable no matter how insignificant it may seem\n",
    "-   Stata uses two sets of labels: **variable labels** and **value labels**\n",
    "-   Variable labels are very easy to use -- value labels are a little more complicated\n",
    "\n",
    "Variable and value labels\n",
    "-------------------------\n",
    "\n",
    "-   Variable labels"
   ]
  },
  {
   "cell_type": "code",
   "execution_count": null,
   "metadata": {
    "attributes": {
     "classes": [
      "stata"
     ],
     "id": ""
    }
   },
   "outputs": [],
   "source": [
    "  /* Labelling and renaming */\n",
    "  // Label variable inc \"household income\"\n",
    "  label var inc \"household income\"\n",
    "\n",
    "  // change the name 'educ' to 'education'\n",
    "  rename educ education\n",
    "\n",
    "  // you can search names and labels with 'lookfor' \n",
    "  lookfor household"
   ]
  },
  {
   "cell_type": "markdown",
   "metadata": {},
   "source": [
    "``` example\n",
    "\n",
    "label var inc \"household income\"\n",
    "\n",
    "rename educ education\n",
    "\n",
    "lookfor household\n",
    "\n",
    "              storage   display    value\n",
    "variable name   type    format     label      variable label\n",
    "-------------------------------------------------------------------------------\n",
    "inc             byte    %8.0g      rincom06   household income\n",
    "```\n"
   ]
  },
  {
   "cell_type": "markdown",
   "metadata": {},
   "source": [
    "-   Value labels are a two step process: define a value label, then assign defined label to variable(s)"
   ]
  },
  {
   "cell_type": "code",
   "execution_count": null,
   "metadata": {
    "attributes": {
     "classes": [
      "stata"
     ],
     "id": ""
    }
   },
   "outputs": [],
   "source": [
    "  /*define a value label for sex */\n",
    "  label define mySexLabel 1 \"Male\" 2 \"Female\"\n",
    "  /* assign our label set to the sex variable*/\n",
    "  label val sex  mySexLabel"
   ]
  },
  {
   "cell_type": "markdown",
   "metadata": {},
   "source": [
    "``` example\n",
    "\n",
    "label define mySexLabel 1 \"Male\" 2 \"Female\"\n",
    "\n",
    "label val sex  mySexLabel\n",
    "```\n"
   ]
  },
  {
   "cell_type": "markdown",
   "metadata": {},
   "source": [
    "Exercise 3: Variable labels and value labels\n",
    "--------------------------------------------\n",
    "\n",
    "1.  Open the data set **gss.csv**\n",
    "2.  Familiarize yourself with the data using describe, sum, etc.\n",
    "3.  Rename and label variables using the following codebook:\n",
    "\n",
    "| **var** | **rename to** | **label with**      |\n",
    "|---------|---------------|---------------------|\n",
    "| v1      | marital       | marital status      |\n",
    "| v2      | age           | age of respondent   |\n",
    "| v3      | educ          | education           |\n",
    "| v4      | sex           | respondent's sex    |\n",
    "| v5      | inc           | household income    |\n",
    "| v6      | happy         | general happiness   |\n",
    "| v7      | region        | region of interview |\n",
    "\n",
    "1.  Add value labels to your \"marital\" variable using this codebook:\n",
    "\n",
    "| **value** | **label**       |\n",
    "|-----------|-----------------|\n",
    "| 1         | \"married\"       |\n",
    "| 2         | \"widowed\"       |\n",
    "| 3         | \"divorced\"      |\n",
    "| 4         | \"separated\"     |\n",
    "| 5         | \"never married\" |\n",
    "\n",
    "Working on subsets\n",
    "------------------\n",
    "\n",
    "-   It is often useful to select just those rows of your data where some condition holds--for example select only rows where sex is 1 (male)\n",
    "-   The following operators allow you to do this:\n",
    "\n",
    "| Operator | Meaning                  |\n",
    "|----------|--------------------------|\n",
    "| ==       | equal to                 |\n",
    "| !=       | not equal to             |\n",
    "| &gt;     | greater than             |\n",
    "| &gt;=    | greater than or equal to |\n",
    "| &lt;     | less than                |\n",
    "| &lt;=    | less than or equal to    |\n",
    "| &        | and                      |\n",
    "|          | or                       |\n",
    "\n",
    "-   Note the double equals signs for testing equality\n",
    "\n",
    "Generating and replacing variables\n",
    "----------------------------------\n",
    "\n",
    "-   Create new variables using \"gen\""
   ]
  },
  {
   "cell_type": "code",
   "execution_count": null,
   "metadata": {
    "attributes": {
     "classes": [
      "stata"
     ],
     "id": ""
    }
   },
   "outputs": [],
   "source": [
    "  // create a new variable named mc_inc\n",
    "  //   equal to inc minus the mean of inc\n",
    "  gen mc_inc = inc - 15.37  "
   ]
  },
  {
   "cell_type": "markdown",
   "metadata": {},
   "source": [
    "``` example\n",
    "\n",
    "gen mc_inc = inc - 15.37\n",
    "```\n"
   ]
  },
  {
   "cell_type": "markdown",
   "metadata": {},
   "source": [
    "-   Sometimes useful to start with blank values and fill them in based on values of existing variables"
   ]
  },
  {
   "cell_type": "code",
   "execution_count": null,
   "metadata": {
    "attributes": {
     "classes": [
      "stata"
     ],
     "id": ""
    }
   },
   "outputs": [],
   "source": [
    "  /* the 'generate and replace' strategy */ \n",
    "  // generate a column of missings\n",
    "  gen age_wealth = .\n",
    "  // Next, start adding your qualifications\n",
    "  replace age_wealth=1 if age<30 & inc < 10\n",
    "  replace age_wealth=2 if age<30 & inc > 10\n",
    "  replace age_wealth=3 if age>30 & inc < 10\n",
    "  replace age_wealth=4 if age>30 & inc > 10\n",
    "\n",
    "  // conditions can also be combined with \"or\"\n",
    "  gen young=0\n",
    "  replace young=1 if age_wealth==1 | age_wealth==2"
   ]
  },
  {
   "cell_type": "markdown",
   "metadata": {},
   "source": [
    "``` example\n",
    "\n",
    "gen age_wealth = .\n",
    "(217 missing values generated)\n",
    "\n",
    "replace age_wealth=1 if age<30 & inc < 10\n",
    "(19 real changes made)\n",
    "replace age_wealth=2 if age<30 & inc > 10\n",
    "(26 real changes made)\n",
    "replace age_wealth=3 if age>30 & inc < 10\n",
    "(22 real changes made)\n",
    "replace age_wealth=4 if age>30 & inc > 10\n",
    "(134 real changes made)\n",
    "\n",
    "gen young=0\n",
    "replace young=1 if age_wealth==1 | age_wealth==2\n",
    "(45 real changes made)\n",
    "```\n"
   ]
  },
  {
   "cell_type": "markdown",
   "metadata": {},
   "source": [
    "Exercise 4: Manipulating variables\n",
    "----------------------------------\n",
    "\n",
    "1.  Use the dataset, gss.dta\n",
    "2.  Generate a new variable, age2 equal to age squared\n",
    "3.  Generate a new \"high income\" variable that will take on a value of \"1\" if a person has an income value greater than \"15\" and \"0\" otherwise\n",
    "4.  Generate a new divorced/separated dummy variable that will take on a value of \"1\" if a person is either divorced or separated and \"0\" otherwise\n",
    "\n",
    "Wrap-up\n",
    "=======\n",
    "\n",
    "Help us make this workshop better!\n",
    "----------------------------------\n",
    "\n",
    "-   Please take a moment to fill out a very short feedback form\n",
    "\n",
    "-   These workshops exist for you – tell us what you need!\n",
    "\n",
    "-   <http://tinyurl.com/6h3cxnz>\n",
    "\n",
    "Additional resources\n",
    "--------------------\n",
    "\n",
    "-   IQSS workshops: <http://projects.iq.harvard.edu/rtc/filter_by/workshops>\n",
    "\n",
    "-   IQSS statistical consulting: <http://rtc.iq.harvard.edu>\n",
    "\n",
    "-   The RCE\n",
    "    -   Research Computing Enviroment (RCE) service available to Harvard & MIT users\n",
    "    -   <http://www.iq.harvard.edu/research_computing>\n",
    "    -   Wonderful resource for organizing data, running analyses efficiently\n",
    "    -   Creates a centralized place to store data and run analysis\n",
    "    -   Supplies persistent desktop environment accessible from any computer with an internet connection"
   ]
  }
 ],
  "metadata": {
  "kernelspec": {
   "display_name": "Stata",
   "language": "stata",
   "name": "stata"
  },
  "language_info": {
   "file_extension": "do",
   "mimetype": "text/x-stata",
   "name": "stata"
  }
 },
 "nbformat": 4,
 "nbformat_minor": 0
}
