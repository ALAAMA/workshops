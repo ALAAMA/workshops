{
 "metadata": {
  "name": "",
  "signature": "sha256:08a85c93c45879309f61b985277e9dcb1ec61fb7674f6421286b2362b2ccbad6"
 },
 "nbformat": 3,
 "nbformat_minor": 0,
 "worksheets": [
  {
   "cells": [
    {
     "cell_type": "heading",
     "level": 1,
     "metadata": {},
     "source": [
      "<br><br><center><font color=#505050 size=8 face='arial black'>Introduction to Python Workshop</font></center>\n",
      "\n",
      "<br><br><center><font color=#B03030 size=5 face='arial black'>Kareem Carr</font></center>"
     ]
    },
    {
     "cell_type": "heading",
     "level": 2,
     "metadata": {},
     "source": [
      "Objectives of the Workshop"
     ]
    },
    {
     "cell_type": "markdown",
     "metadata": {},
     "source": [
      "<font color='gray' size=3 face='Comic Sans MS'>\n",
      "\n",
      "<p>Before leaving the workshop:</p>\n",
      "<ol>\n",
      "<font color='black'><li>Have working python environment on your laptop</li><br></font>\n",
      "\n",
      "<li>Know how to talk to the python interpreter</li><br>\n",
      "\n",
      "<li>Know where to find out more about python</li><br>\n",
      "\n",
      "<li>Know how to get data into python, use functions and do a few basic operations</li><br>\n",
      "</ol>\n",
      "\n",
      "</font>"
     ]
    },
    {
     "cell_type": "heading",
     "level": 2,
     "metadata": {},
     "source": [
      "What is the simplest python program?"
     ]
    },
    {
     "cell_type": "code",
     "collapsed": false,
     "input": [
      "print \"Hello World\""
     ],
     "language": "python",
     "metadata": {},
     "outputs": [
      {
       "output_type": "stream",
       "stream": "stdout",
       "text": [
        "Hello World\n"
       ]
      }
     ],
     "prompt_number": 19
    },
    {
     "cell_type": "code",
     "collapsed": false,
     "input": [
      "%run simple.py"
     ],
     "language": "python",
     "metadata": {},
     "outputs": [
      {
       "output_type": "stream",
       "stream": "stdout",
       "text": [
        "Hello World\n"
       ]
      }
     ],
     "prompt_number": 20
    },
    {
     "cell_type": "heading",
     "level": 2,
     "metadata": {},
     "source": [
      "Built-in functions"
     ]
    },
    {
     "cell_type": "code",
     "collapsed": false,
     "input": [
      "min(42,53) #minimum"
     ],
     "language": "python",
     "metadata": {},
     "outputs": [
      {
       "metadata": {},
       "output_type": "pyout",
       "prompt_number": 11,
       "text": [
        "42"
       ]
      }
     ],
     "prompt_number": 11
    },
    {
     "cell_type": "code",
     "collapsed": false,
     "input": [
      "max(42,53) #maximum"
     ],
     "language": "python",
     "metadata": {},
     "outputs": [
      {
       "metadata": {},
       "output_type": "pyout",
       "prompt_number": 12,
       "text": [
        "53"
       ]
      }
     ],
     "prompt_number": 12
    },
    {
     "cell_type": "code",
     "collapsed": false,
     "input": [
      "len(\"hello\") #length"
     ],
     "language": "python",
     "metadata": {},
     "outputs": [
      {
       "metadata": {},
       "output_type": "pyout",
       "prompt_number": 13,
       "text": [
        "5"
       ]
      }
     ],
     "prompt_number": 13
    },
    {
     "cell_type": "code",
     "collapsed": false,
     "input": [
      "round(4.5) #round values"
     ],
     "language": "python",
     "metadata": {},
     "outputs": [
      {
       "metadata": {},
       "output_type": "pyout",
       "prompt_number": 14,
       "text": [
        "5.0"
       ]
      }
     ],
     "prompt_number": 14
    },
    {
     "cell_type": "code",
     "collapsed": false,
     "input": [
      "4 == 5 #boolean"
     ],
     "language": "python",
     "metadata": {},
     "outputs": [
      {
       "metadata": {},
       "output_type": "pyout",
       "prompt_number": 15,
       "text": [
        "False"
       ]
      }
     ],
     "prompt_number": 15
    },
    {
     "cell_type": "markdown",
     "metadata": {},
     "source": [
      "<font color='gray' size=3 face='tahoma'>There are three basic types of data in python: strings, floats and integers. Strings are text. Integers are integers, one of the two types of numbers. Floats are the equivalent of decimnals.</font>"
     ]
    },
    {
     "cell_type": "code",
     "collapsed": false,
     "input": [
      "x = 4\n",
      "y = 5\n",
      "z = x+y"
     ],
     "language": "python",
     "metadata": {},
     "outputs": []
    },
    {
     "cell_type": "markdown",
     "metadata": {},
     "source": [
      "&nbsp;&nbsp;&nbsp;&nbsp;<font color='gray' size=3 face='tahoma'> What is x, y and z?</font>"
     ]
    },
    {
     "cell_type": "code",
     "collapsed": false,
     "input": [
      "print x, y, z"
     ],
     "language": "python",
     "metadata": {},
     "outputs": [
      {
       "output_type": "stream",
       "stream": "stdout",
       "text": [
        "4 5 9\n"
       ]
      }
     ],
     "prompt_number": 29
    },
    {
     "cell_type": "code",
     "collapsed": false,
     "input": [
      "Operations with strings"
     ],
     "language": "python",
     "metadata": {},
     "outputs": []
    },
    {
     "cell_type": "code",
     "collapsed": false,
     "input": [
      "\"Hello. How are you today?\".split()"
     ],
     "language": "python",
     "metadata": {},
     "outputs": [
      {
       "metadata": {},
       "output_type": "pyout",
       "prompt_number": 10,
       "text": [
        "['Hello.', 'How', 'are', 'you', 'today?']"
       ]
      }
     ],
     "prompt_number": 10
    },
    {
     "cell_type": "code",
     "collapsed": false,
     "input": [
      "print \"\".join(['Hello.', 'How', 'are', 'you', 'today?'])"
     ],
     "language": "python",
     "metadata": {},
     "outputs": [
      {
       "metadata": {},
       "output_type": "pyout",
       "prompt_number": 11,
       "text": [
        "'Hello.Howareyoutoday?'"
       ]
      }
     ],
     "prompt_number": 11
    },
    {
     "cell_type": "code",
     "collapsed": false,
     "input": [
      "print \" \".join(['Hello.', 'How', 'are', 'you', 'today?'])"
     ],
     "language": "python",
     "metadata": {},
     "outputs": [
      {
       "output_type": "stream",
       "stream": "stdout",
       "text": [
        "Hello. How are you today?\n"
       ]
      }
     ],
     "prompt_number": 13
    },
    {
     "cell_type": "code",
     "collapsed": false,
     "input": [
      "\"Hello.\".startswith(\"H\")"
     ],
     "language": "python",
     "metadata": {},
     "outputs": [
      {
       "metadata": {},
       "output_type": "pyout",
       "prompt_number": 14,
       "text": [
        "True"
       ]
      }
     ],
     "prompt_number": 14
    },
    {
     "cell_type": "code",
     "collapsed": false,
     "input": [
      "\"Hello.\".startswith(\"h\")"
     ],
     "language": "python",
     "metadata": {},
     "outputs": [
      {
       "metadata": {},
       "output_type": "pyout",
       "prompt_number": 15,
       "text": [
        "False"
       ]
      }
     ],
     "prompt_number": 15
    },
    {
     "cell_type": "code",
     "collapsed": false,
     "input": [
      "\"Hello.\".endswith(\"h\")"
     ],
     "language": "python",
     "metadata": {},
     "outputs": [
      {
       "metadata": {},
       "output_type": "pyout",
       "prompt_number": 17,
       "text": [
        "False"
       ]
      }
     ],
     "prompt_number": 17
    },
    {
     "cell_type": "code",
     "collapsed": false,
     "input": [
      "print \"H\" in \"Hello\"\n",
      "print \"Hello\" in \"Hello. How are you today?\""
     ],
     "language": "python",
     "metadata": {},
     "outputs": [
      {
       "output_type": "stream",
       "stream": "stdout",
       "text": [
        "True\n",
        "True\n"
       ]
      }
     ],
     "prompt_number": 20
    },
    {
     "cell_type": "heading",
     "level": 2,
     "metadata": {},
     "source": [
      "Getting more functions using modules"
     ]
    },
    {
     "cell_type": "markdown",
     "metadata": {},
     "source": [
      "&nbsp;&nbsp;&nbsp;&nbsp;<font color='gray' size=3 face='tahoma'>You can use the import statement to get more functions in python</font>"
     ]
    },
    {
     "cell_type": "heading",
     "level": 2,
     "metadata": {},
     "source": [
      "string"
     ]
    },
    {
     "cell_type": "code",
     "collapsed": false,
     "input": [
      "#https://docs.python.org/2/library/string.html\n",
      "import string"
     ],
     "language": "python",
     "metadata": {},
     "outputs": [],
     "prompt_number": 4
    },
    {
     "cell_type": "code",
     "collapsed": false,
     "input": [
      "print string.punctuation\n",
      "print string.digits\n",
      "print string.ascii_letters"
     ],
     "language": "python",
     "metadata": {},
     "outputs": [
      {
       "output_type": "stream",
       "stream": "stdout",
       "text": [
        "!\"#$%&'()*+,-./:;<=>?@[\\]^_`{|}~\n",
        "0123456789\n",
        "abcdefghijklmnopqrstuvwxyzABCDEFGHIJKLMNOPQRSTUVWXYZ\n"
       ]
      }
     ],
     "prompt_number": 38
    },
    {
     "cell_type": "heading",
     "level": 3,
     "metadata": {},
     "source": [
      "math"
     ]
    },
    {
     "cell_type": "code",
     "collapsed": false,
     "input": [
      "#https://docs.python.org/2/library/math.html\n",
      "import math"
     ],
     "language": "python",
     "metadata": {},
     "outputs": [],
     "prompt_number": 2
    },
    {
     "cell_type": "code",
     "collapsed": false,
     "input": [
      "print math.log(0.2)\n",
      "print math.exp(4)"
     ],
     "language": "python",
     "metadata": {},
     "outputs": [
      {
       "output_type": "stream",
       "stream": "stdout",
       "text": [
        "-1.60943791243\n",
        "54.5981500331\n"
       ]
      }
     ],
     "prompt_number": 3
    },
    {
     "cell_type": "heading",
     "level": 3,
     "metadata": {},
     "source": [
      "random"
     ]
    },
    {
     "cell_type": "code",
     "collapsed": false,
     "input": [
      "#https://docs.python.org/2/library/random.html\n",
      "import random"
     ],
     "language": "python",
     "metadata": {},
     "outputs": [],
     "prompt_number": 7
    },
    {
     "cell_type": "code",
     "collapsed": false,
     "input": [
      "print random.random() # random real number between 0 and 1\n",
      "print random.randint(0,5) #random integer between 0 and 5"
     ],
     "language": "python",
     "metadata": {},
     "outputs": [
      {
       "output_type": "stream",
       "stream": "stdout",
       "text": [
        "0.619140505473\n",
        "5\n"
       ]
      }
     ],
     "prompt_number": 24
    },
    {
     "cell_type": "heading",
     "level": 3,
     "metadata": {},
     "source": [
      "my module"
     ]
    },
    {
     "cell_type": "code",
     "collapsed": false,
     "input": [
      "import myfile"
     ],
     "language": "python",
     "metadata": {},
     "outputs": [],
     "prompt_number": 25
    },
    {
     "cell_type": "code",
     "collapsed": false,
     "input": [
      "myfile.f(1,3)"
     ],
     "language": "python",
     "metadata": {},
     "outputs": [
      {
       "metadata": {},
       "output_type": "pyout",
       "prompt_number": 29,
       "text": [
        "4"
       ]
      }
     ],
     "prompt_number": 29
    },
    {
     "cell_type": "heading",
     "level": 2,
     "metadata": {},
     "source": [
      "Objectives of the Workshop"
     ]
    },
    {
     "cell_type": "markdown",
     "metadata": {},
     "source": [
      "<font color='gray' size=3 face='Comic Sans MS'>\n",
      "\n",
      "<p>Before leaving the workshop:</p>\n",
      "<ol>\n",
      "<font color='black'><li>Have working python environment on your laptop</li><br></font>\n",
      "\n",
      "<font color='black'><li>Know how to talk to the python interpreter</li><br></font>\n",
      "\n",
      "<font color='black'><li>Know where to find out more about python</li><br></font>\n",
      "\n",
      "<li>Know how to get data into python, use functions and do a few basic operations</li><br>\n",
      "</ol>\n",
      "\n",
      "</font>\n"
     ]
    },
    {
     "cell_type": "code",
     "collapsed": false,
     "input": [
      "help(math.exp)"
     ],
     "language": "python",
     "metadata": {},
     "outputs": [
      {
       "output_type": "stream",
       "stream": "stdout",
       "text": [
        "Help on built-in function exp in module math:\n",
        "\n",
        "exp(...)\n",
        "    exp(x)\n",
        "    \n",
        "    Return e raised to the power of x.\n",
        "\n"
       ]
      }
     ],
     "prompt_number": 32
    },
    {
     "cell_type": "code",
     "collapsed": false,
     "input": [
      "math.exp?"
     ],
     "language": "python",
     "metadata": {},
     "outputs": [],
     "prompt_number": 33
    },
    {
     "cell_type": "code",
     "collapsed": false,
     "input": [
      "help(\"math\")"
     ],
     "language": "python",
     "metadata": {},
     "outputs": [
      {
       "output_type": "stream",
       "stream": "stdout",
       "text": [
        "Help on module math:\n",
        "\n",
        "NAME\n",
        "    math\n",
        "\n",
        "FILE\n",
        "    /Library/Frameworks/Python.framework/Versions/2.7/lib/python2.7/lib-dynload/math.so\n",
        "\n",
        "MODULE DOCS\n",
        "    http://docs.python.org/library/math\n",
        "\n",
        "DESCRIPTION\n",
        "    This module is always available.  It provides access to the\n",
        "    mathematical functions defined by the C standard.\n",
        "\n",
        "FUNCTIONS\n",
        "    acos(...)\n",
        "        acos(x)\n",
        "        \n",
        "        Return the arc cosine (measured in radians) of x.\n",
        "    \n",
        "    acosh(...)\n",
        "        acosh(x)\n",
        "        \n",
        "        Return the hyperbolic arc cosine (measured in radians) of x.\n",
        "    \n",
        "    asin(...)\n",
        "        asin(x)\n",
        "        \n",
        "        Return the arc sine (measured in radians) of x.\n",
        "    \n",
        "    asinh(...)\n",
        "        asinh(x)\n",
        "        \n",
        "        Return the hyperbolic arc sine (measured in radians) of x.\n",
        "    \n",
        "    atan(...)\n",
        "        atan(x)\n",
        "        \n",
        "        Return the arc tangent (measured in radians) of x.\n",
        "    \n",
        "    atan2(...)\n",
        "        atan2(y, x)\n",
        "        \n",
        "        Return the arc tangent (measured in radians) of y/x.\n",
        "        Unlike atan(y/x), the signs of both x and y are considered.\n",
        "    \n",
        "    atanh(...)\n",
        "        atanh(x)\n",
        "        \n",
        "        Return the hyperbolic arc tangent (measured in radians) of x.\n",
        "    \n",
        "    ceil(...)\n",
        "        ceil(x)\n",
        "        \n",
        "        Return the ceiling of x as a float.\n",
        "        This is the smallest integral value >= x.\n",
        "    \n",
        "    copysign(...)\n",
        "        copysign(x, y)\n",
        "        \n",
        "        Return x with the sign of y.\n",
        "    \n",
        "    cos(...)\n",
        "        cos(x)\n",
        "        \n",
        "        Return the cosine of x (measured in radians).\n",
        "    \n",
        "    cosh(...)\n",
        "        cosh(x)\n",
        "        \n",
        "        Return the hyperbolic cosine of x.\n",
        "    \n",
        "    degrees(...)\n",
        "        degrees(x)\n",
        "        \n",
        "        Convert angle x from radians to degrees.\n",
        "    \n",
        "    erf(...)\n",
        "        erf(x)\n",
        "        \n",
        "        Error function at x.\n",
        "    \n",
        "    erfc(...)\n",
        "        erfc(x)\n",
        "        \n",
        "        Complementary error function at x.\n",
        "    \n",
        "    exp(...)\n",
        "        exp(x)\n",
        "        \n",
        "        Return e raised to the power of x.\n",
        "    \n",
        "    expm1(...)\n",
        "        expm1(x)\n",
        "        \n",
        "        Return exp(x)-1.\n",
        "        This function avoids the loss of precision involved in the direct evaluation of exp(x)-1 for small x.\n",
        "    \n",
        "    fabs(...)\n",
        "        fabs(x)\n",
        "        \n",
        "        Return the absolute value of the float x.\n",
        "    \n",
        "    factorial(...)\n",
        "        factorial(x) -> Integral\n",
        "        \n",
        "        Find x!. Raise a ValueError if x is negative or non-integral.\n",
        "    \n",
        "    floor(...)\n",
        "        floor(x)\n",
        "        \n",
        "        Return the floor of x as a float.\n",
        "        This is the largest integral value <= x.\n",
        "    \n",
        "    fmod(...)\n",
        "        fmod(x, y)\n",
        "        \n",
        "        Return fmod(x, y), according to platform C.  x % y may differ.\n",
        "    \n",
        "    frexp(...)\n",
        "        frexp(x)\n",
        "        \n",
        "        Return the mantissa and exponent of x, as pair (m, e).\n",
        "        m is a float and e is an int, such that x = m * 2.**e.\n",
        "        If x is 0, m and e are both 0.  Else 0.5 <= abs(m) < 1.0.\n",
        "    \n",
        "    fsum(...)\n",
        "        fsum(iterable)\n",
        "        \n",
        "        Return an accurate floating point sum of values in the iterable.\n",
        "        Assumes IEEE-754 floating point arithmetic.\n",
        "    \n",
        "    gamma(...)\n",
        "        gamma(x)\n",
        "        \n",
        "        Gamma function at x.\n",
        "    \n",
        "    hypot(...)\n",
        "        hypot(x, y)\n",
        "        \n",
        "        Return the Euclidean distance, sqrt(x*x + y*y).\n",
        "    \n",
        "    isinf(...)\n",
        "        isinf(x) -> bool\n",
        "        \n",
        "        Check if float x is infinite (positive or negative).\n",
        "    \n",
        "    isnan(...)\n",
        "        isnan(x) -> bool\n",
        "        \n",
        "        Check if float x is not a number (NaN).\n",
        "    \n",
        "    ldexp(...)\n",
        "        ldexp(x, i)\n",
        "        \n",
        "        Return x * (2**i).\n",
        "    \n",
        "    lgamma(...)\n",
        "        lgamma(x)\n",
        "        \n",
        "        Natural logarithm of absolute value of Gamma function at x.\n",
        "    \n",
        "    log(...)\n",
        "        log(x[, base])\n",
        "        \n",
        "        Return the logarithm of x to the given base.\n",
        "        If the base not specified, returns the natural logarithm (base e) of x.\n",
        "    \n",
        "    log10(...)\n",
        "        log10(x)\n",
        "        \n",
        "        Return the base 10 logarithm of x.\n",
        "    \n",
        "    log1p(...)\n",
        "        log1p(x)\n",
        "        \n",
        "        Return the natural logarithm of 1+x (base e).\n",
        "        The result is computed in a way which is accurate for x near zero.\n",
        "    \n",
        "    modf(...)\n",
        "        modf(x)\n",
        "        \n",
        "        Return the fractional and integer parts of x.  Both results carry the sign\n",
        "        of x and are floats.\n",
        "    \n",
        "    pow(...)\n",
        "        pow(x, y)\n",
        "        \n",
        "        Return x**y (x to the power of y).\n",
        "    \n",
        "    radians(...)\n",
        "        radians(x)\n",
        "        \n",
        "        Convert angle x from degrees to radians.\n",
        "    \n",
        "    sin(...)\n",
        "        sin(x)\n",
        "        \n",
        "        Return the sine of x (measured in radians).\n",
        "    \n",
        "    sinh(...)\n",
        "        sinh(x)\n",
        "        \n",
        "        Return the hyperbolic sine of x.\n",
        "    \n",
        "    sqrt(...)\n",
        "        sqrt(x)\n",
        "        \n",
        "        Return the square root of x.\n",
        "    \n",
        "    tan(...)\n",
        "        tan(x)\n",
        "        \n",
        "        Return the tangent of x (measured in radians).\n",
        "    \n",
        "    tanh(...)\n",
        "        tanh(x)\n",
        "        \n",
        "        Return the hyperbolic tangent of x.\n",
        "    \n",
        "    trunc(...)\n",
        "        trunc(x:Real) -> Integral\n",
        "        \n",
        "        Truncates x to the nearest Integral toward 0. Uses the __trunc__ magic method.\n",
        "\n",
        "DATA\n",
        "    e = 2.718281828459045\n",
        "    pi = 3.141592653589793\n",
        "\n",
        "\n"
       ]
      }
     ],
     "prompt_number": 49
    },
    {
     "cell_type": "code",
     "collapsed": false,
     "input": [
      "import myfile"
     ],
     "language": "python",
     "metadata": {},
     "outputs": [],
     "prompt_number": 52
    },
    {
     "cell_type": "code",
     "collapsed": false,
     "input": [
      "help(myfile.g)"
     ],
     "language": "python",
     "metadata": {},
     "outputs": [
      {
       "ename": "AttributeError",
       "evalue": "'module' object has no attribute 'g'",
       "output_type": "pyerr",
       "traceback": [
        "\u001b[0;31m---------------------------------------------------------------------------\u001b[0m\n\u001b[0;31mAttributeError\u001b[0m                            Traceback (most recent call last)",
        "\u001b[0;32m<ipython-input-53-39fe12a091c6>\u001b[0m in \u001b[0;36m<module>\u001b[0;34m()\u001b[0m\n\u001b[0;32m----> 1\u001b[0;31m \u001b[0mhelp\u001b[0m\u001b[0;34m(\u001b[0m\u001b[0mmyfile\u001b[0m\u001b[0;34m.\u001b[0m\u001b[0mg\u001b[0m\u001b[0;34m)\u001b[0m\u001b[0;34m\u001b[0m\u001b[0m\n\u001b[0m",
        "\u001b[0;31mAttributeError\u001b[0m: 'module' object has no attribute 'g'"
       ]
      }
     ],
     "prompt_number": 53
    },
    {
     "cell_type": "heading",
     "level": 2,
     "metadata": {},
     "source": [
      "Objectives of the Workshop"
     ]
    },
    {
     "cell_type": "markdown",
     "metadata": {},
     "source": [
      "<font color='gray' size=3 face='Comic Sans MS'>\n",
      "\n",
      "<p>Before leaving the workshop:</p>\n",
      "<ol>\n",
      "<font color='black'><li>Have working python environment on your laptop</li><br></font>\n",
      "\n",
      "<font color='black'><li>Know how to talk to the python interpreter</li><br></font>\n",
      "\n",
      "<font color='black'><li>Know where to find out more about python</li><br></font>\n",
      "\n",
      "<li>Know how to get data into python, use functions and do a few basic operations</li><br>\n",
      "</ol>\n",
      "\n",
      "</font>"
     ]
    },
    {
     "cell_type": "heading",
     "level": 3,
     "metadata": {},
     "source": [
      "lists"
     ]
    },
    {
     "cell_type": "code",
     "collapsed": false,
     "input": [
      "\"A camel can go periods of time without drinking water.\".split()"
     ],
     "language": "python",
     "metadata": {},
     "outputs": [
      {
       "metadata": {},
       "output_type": "pyout",
       "prompt_number": 117,
       "text": [
        "['A',\n",
        " 'camel',\n",
        " 'can',\n",
        " 'go',\n",
        " 'periods',\n",
        " 'of',\n",
        " 'time',\n",
        " 'without',\n",
        " 'drinking',\n",
        " 'water.']"
       ]
      }
     ],
     "prompt_number": 117
    },
    {
     "cell_type": "code",
     "collapsed": false,
     "input": [
      "words = \"A camel can go periods of time without drinking water.\".split()"
     ],
     "language": "python",
     "metadata": {},
     "outputs": [],
     "prompt_number": 118
    },
    {
     "cell_type": "code",
     "collapsed": false,
     "input": [
      "print words[0]\n",
      "print words[1]\n",
      "print words[-1]\n",
      "print words[1:3]\n",
      "print words[1:]\n",
      "print words[:3]"
     ],
     "language": "python",
     "metadata": {},
     "outputs": [
      {
       "output_type": "stream",
       "stream": "stdout",
       "text": [
        "A\n",
        "camel\n",
        "water.\n",
        "['camel', 'can']\n",
        "['camel', 'can', 'go', 'periods', 'of', 'time', 'without', 'drinking', 'water.']\n",
        "['A', 'camel', 'can']\n"
       ]
      }
     ],
     "prompt_number": 119
    },
    {
     "cell_type": "code",
     "collapsed": false,
     "input": [
      "range(5)"
     ],
     "language": "python",
     "metadata": {},
     "outputs": [
      {
       "metadata": {},
       "output_type": "pyout",
       "prompt_number": 120,
       "text": [
        "[0, 1, 2, 3, 4]"
       ]
      }
     ],
     "prompt_number": 120
    },
    {
     "cell_type": "code",
     "collapsed": false,
     "input": [
      "for item in range(5):\n",
      "    print item "
     ],
     "language": "python",
     "metadata": {},
     "outputs": [
      {
       "output_type": "stream",
       "stream": "stdout",
       "text": [
        "0\n",
        "1\n",
        "2\n",
        "3\n",
        "4\n"
       ]
      }
     ],
     "prompt_number": 121
    },
    {
     "cell_type": "code",
     "collapsed": false,
     "input": [
      "for word in words:\n",
      "    print word"
     ],
     "language": "python",
     "metadata": {},
     "outputs": [
      {
       "output_type": "stream",
       "stream": "stdout",
       "text": [
        "A\n",
        "camel\n",
        "can\n",
        "go\n",
        "periods\n",
        "of\n",
        "time\n",
        "without\n",
        "drinking\n",
        "water.\n"
       ]
      }
     ],
     "prompt_number": 122
    },
    {
     "cell_type": "code",
     "collapsed": false,
     "input": [
      "for word in words:\n",
      "    if word.startswith(\"c\"): print word"
     ],
     "language": "python",
     "metadata": {},
     "outputs": [
      {
       "output_type": "stream",
       "stream": "stdout",
       "text": [
        "camel\n",
        "can\n"
       ]
      }
     ],
     "prompt_number": 123
    },
    {
     "cell_type": "heading",
     "level": 3,
     "metadata": {},
     "source": [
      "dictionaries"
     ]
    },
    {
     "cell_type": "code",
     "collapsed": false,
     "input": [
      "category=dict()\n",
      "category[\"apple\"]=\"fruit\"\n",
      "category[\"banana\"]=\"fruit\"\n",
      "category[\"cherry\"]=\"fruit\"\n",
      "category[\"celery\"]=\"vegetable\"\n",
      "category[\"tomato\"]=\"vegetable\""
     ],
     "language": "python",
     "metadata": {},
     "outputs": [],
     "prompt_number": 70
    },
    {
     "cell_type": "code",
     "collapsed": false,
     "input": [
      "category.keys()"
     ],
     "language": "python",
     "metadata": {},
     "outputs": [
      {
       "metadata": {},
       "output_type": "pyout",
       "prompt_number": 71,
       "text": [
        "['celery', 'cherry', 'tomato', 'apple', 'banana']"
       ]
      }
     ],
     "prompt_number": 71
    },
    {
     "cell_type": "code",
     "collapsed": false,
     "input": [
      "category.values()"
     ],
     "language": "python",
     "metadata": {},
     "outputs": [
      {
       "metadata": {},
       "output_type": "pyout",
       "prompt_number": 72,
       "text": [
        "['vegetable', 'fruit', 'vegetable', 'fruit', 'fruit']"
       ]
      }
     ],
     "prompt_number": 72
    },
    {
     "cell_type": "code",
     "collapsed": false,
     "input": [
      "category.items()"
     ],
     "language": "python",
     "metadata": {},
     "outputs": [
      {
       "metadata": {},
       "output_type": "pyout",
       "prompt_number": 75,
       "text": [
        "[('celery', 'vegetable'),\n",
        " ('cherry', 'fruit'),\n",
        " ('tomato', 'vegetable'),\n",
        " ('apple', 'fruit'),\n",
        " ('banana', 'fruit')]"
       ]
      }
     ],
     "prompt_number": 75
    },
    {
     "cell_type": "code",
     "collapsed": false,
     "input": [
      "print category"
     ],
     "language": "python",
     "metadata": {},
     "outputs": [
      {
       "output_type": "stream",
       "stream": "stdout",
       "text": [
        "{'celery': 'vegetable', 'cherry': 'fruit', 'tomato': 'vegetable', 'apple': 'fruit', 'banana': 'fruit'}\n"
       ]
      }
     ],
     "prompt_number": 79
    },
    {
     "cell_type": "code",
     "collapsed": false,
     "input": [
      "data = category.items()\n",
      "print data"
     ],
     "language": "python",
     "metadata": {},
     "outputs": [
      {
       "output_type": "stream",
       "stream": "stdout",
       "text": [
        "[('celery', 'vegetable'), ('cherry', 'fruit'), ('tomato', 'vegetable'), ('apple', 'fruit'), ('banana', 'fruit')]\n"
       ]
      }
     ],
     "prompt_number": 81
    },
    {
     "cell_type": "code",
     "collapsed": false,
     "input": [
      "data[0]"
     ],
     "language": "python",
     "metadata": {},
     "outputs": [
      {
       "metadata": {},
       "output_type": "pyout",
       "prompt_number": 77,
       "text": [
        "('celery', 'vegetable')"
       ]
      }
     ],
     "prompt_number": 77
    },
    {
     "cell_type": "code",
     "collapsed": false,
     "input": [
      "print data[0][0]\n",
      "print data[0][1]"
     ],
     "language": "python",
     "metadata": {},
     "outputs": [
      {
       "output_type": "stream",
       "stream": "stdout",
       "text": [
        "celery\n",
        "vegetable\n"
       ]
      }
     ],
     "prompt_number": 78
    },
    {
     "cell_type": "code",
     "collapsed": false,
     "input": [
      "file = open(\"Pride_and_Prejudice.txt\")"
     ],
     "language": "python",
     "metadata": {},
     "outputs": [],
     "prompt_number": 93
    },
    {
     "cell_type": "code",
     "collapsed": false,
     "input": [
      "file"
     ],
     "language": "python",
     "metadata": {},
     "outputs": [
      {
       "metadata": {},
       "output_type": "pyout",
       "prompt_number": 94,
       "text": [
        "<open file 'Pride_and_Prejudice.txt', mode 'r' at 0x106920420>"
       ]
      }
     ],
     "prompt_number": 94
    },
    {
     "cell_type": "code",
     "collapsed": false,
     "input": [
      "file.read()"
     ],
     "language": "python",
     "metadata": {},
     "outputs": [
      {
       "metadata": {},
       "output_type": "pyout",
       "prompt_number": 96,
       "text": [
        "''"
       ]
      }
     ],
     "prompt_number": 96
    },
    {
     "cell_type": "code",
     "collapsed": false,
     "input": [
      "file = open(\"Pride_and_Prejudice.txt\")"
     ],
     "language": "python",
     "metadata": {},
     "outputs": [],
     "prompt_number": 97
    },
    {
     "cell_type": "code",
     "collapsed": false,
     "input": [
      "file.readline()"
     ],
     "language": "python",
     "metadata": {},
     "outputs": [
      {
       "metadata": {},
       "output_type": "pyout",
       "prompt_number": 101,
       "text": [
        "'\\r\\n'"
       ]
      }
     ],
     "prompt_number": 101
    },
    {
     "cell_type": "code",
     "collapsed": false,
     "input": [
      "file.readlines()"
     ],
     "language": "python",
     "metadata": {},
     "outputs": [
      {
       "metadata": {},
       "output_type": "pyout",
       "prompt_number": 103,
       "text": [
        "[]"
       ]
      }
     ],
     "prompt_number": 103
    },
    {
     "cell_type": "code",
     "collapsed": false,
     "input": [
      "file = open(\"Pride_and_Prejudice.txt\")\n",
      "text = file.readlines()\n",
      "for line in text:\n",
      "    if line.startswith('At'): print line"
     ],
     "language": "python",
     "metadata": {},
     "outputs": [
      {
       "output_type": "stream",
       "stream": "stdout",
       "text": [
        "At five o'clock the two ladies retired to dress, and at half-past six\r\n",
        "\n",
        "At that moment they were met from another walk by Mrs. Hurst and\r\n",
        "\n",
        "Attendance, forbearance, patience with Darcy, was injury to Wickham. She\r\n",
        "\n",
        "At length, however, Mrs. Bennet had no more to say; and Lady Lucas, who\r\n",
        "\n",
        "At length the Parsonage was discernible. The garden sloping to the\r\n",
        "\n",
        "At length there was nothing more to be said; the ladies drove on, and\r\n",
        "\n",
        "At length, however, his civility was so far awakened as to inquire of\r\n",
        "\n",
        "At length the chaise arrived, the trunks were fastened on, the parcels\r\n",
        "\n",
        "At length every idea seemed to fail him; and, after standing a few\r\n",
        "\n",
        "At length, however, the remarks of her companions on her absence of mind\r\n",
        "\n",
        "At night she opened her heart to Jane. Though suspicion was very far\r\n",
        "\n"
       ]
      }
     ],
     "prompt_number": 128
    },
    {
     "cell_type": "code",
     "collapsed": false,
     "input": [
      "#Project Gutenberg. Copy of Alice in Wonderland\n",
      "#http://www.gutenberg.org/cache/epub/11/pg11.txt\n",
      "import urllib2\n",
      "webpage = urllib2.urlopen(\"http://www.gutenberg.org/cache/epub/11/pg11.txt\")"
     ],
     "language": "python",
     "metadata": {},
     "outputs": [],
     "prompt_number": 130
    },
    {
     "cell_type": "code",
     "collapsed": false,
     "input": [
      "text = webpage.readlines()\n",
      "for line in text:\n",
      "    if line.startswith('At'): print line"
     ],
     "language": "python",
     "metadata": {},
     "outputs": [
      {
       "output_type": "stream",
       "stream": "stdout",
       "text": [
        "At last the Mouse, who seemed to be a person of authority among them,\r\n",
        "\n",
        "At this moment the door of the house opened, and a large plate came\r\n",
        "\n",
        "At this moment the King, who had been for some time busily writing in\r\n",
        "\n",
        "At this the whole pack rose up into the air, and came flying down upon\r\n",
        "\n"
       ]
      }
     ],
     "prompt_number": 131
    },
    {
     "cell_type": "code",
     "collapsed": false,
     "input": [
      "outfile = open(\"output.txt\",'w')\n",
      "\n",
      "text = webpage.readlines()\n",
      "for line in text:\n",
      "    if line.startswith('At'): outfile.write(line)"
     ],
     "language": "python",
     "metadata": {},
     "outputs": [],
     "prompt_number": 133
    },
    {
     "cell_type": "heading",
     "level": 2,
     "metadata": {},
     "source": [
      "Graphics"
     ]
    },
    {
     "cell_type": "code",
     "collapsed": false,
     "input": [
      "import matplotlib.pyplot as plt"
     ],
     "language": "python",
     "metadata": {},
     "outputs": [],
     "prompt_number": 143
    },
    {
     "cell_type": "code",
     "collapsed": false,
     "input": [
      "plt.plot([1,2,3,4],[1,4,9,16])\n",
      "plt.ylabel('y')\n",
      "plt.xlabel('x')\n",
      "plt.show()"
     ],
     "language": "python",
     "metadata": {},
     "outputs": [
      {
       "metadata": {},
       "output_type": "display_data",
       "png": "[encoded data removed]",
       "text": [
        "<matplotlib.figure.Figure at 0x110dab810>"
       ]
      }
     ],
     "prompt_number": 144
    },
    {
     "cell_type": "code",
     "collapsed": false,
     "input": [
      "%matplotlib inline"
     ],
     "language": "python",
     "metadata": {},
     "outputs": [],
     "prompt_number": 139
    },
    {
     "cell_type": "code",
     "collapsed": false,
     "input": [
      "plt.plot([1,2,3,4],[1,4,9,16])\n",
      "plt.ylabel('y')\n",
      "plt.xlabel('x')\n",
      "plt.show()"
     ],
     "language": "python",
     "metadata": {},
     "outputs": [
      {
       "metadata": {},
       "output_type": "display_data",
       "png": "[encoded data removed]",
       "text": [
        "<matplotlib.figure.Figure at 0x10a049750>"
       ]
      }
     ],
     "prompt_number": 141
    },
    {
     "cell_type": "heading",
     "level": 2,
     "metadata": {},
     "source": [
      "Tables"
     ]
    },
    {
     "cell_type": "code",
     "collapsed": false,
     "input": [
      "import pandas as pd"
     ],
     "language": "python",
     "metadata": {},
     "outputs": [],
     "prompt_number": 146
    },
    {
     "cell_type": "code",
     "collapsed": false,
     "input": [
      "data = pd.read_csv(\"iris.csv\")\n",
      "print data"
     ],
     "language": "python",
     "metadata": {},
     "outputs": [
      {
       "output_type": "stream",
       "stream": "stdout",
       "text": [
        "     Species  sepal length  sepal width  petal length  petal width\n",
        "0          0           5.1          3.5           1.4          0.2\n",
        "1          0           4.9          3.0           1.4          0.2\n",
        "2          0           4.7          3.2           1.3          0.2\n",
        "3          0           4.6          3.1           1.5          0.2\n",
        "4          0           5.0          3.6           1.4          0.2\n",
        "5          0           5.4          3.9           1.7          0.4\n",
        "6          0           4.6          3.4           1.4          0.3\n",
        "7          0           5.0          3.4           1.5          0.2\n",
        "8          0           4.4          2.9           1.4          0.2\n",
        "9          0           4.9          3.1           1.5          0.1\n",
        "10         0           5.4          3.7           1.5          0.2\n",
        "11         0           4.8          3.4           1.6          0.2\n",
        "12         0           4.8          3.0           1.4          0.1\n",
        "13         0           4.3          3.0           1.1          0.1\n",
        "14         0           5.8          4.0           1.2          0.2\n",
        "15         0           5.7          4.4           1.5          0.4\n",
        "16         0           5.4          3.9           1.3          0.4\n",
        "17         0           5.1          3.5           1.4          0.3\n",
        "18         0           5.7          3.8           1.7          0.3\n",
        "19         0           5.1          3.8           1.5          0.3\n",
        "20         0           5.4          3.4           1.7          0.2\n",
        "21         0           5.1          3.7           1.5          0.4\n",
        "22         0           4.6          3.6           1.0          0.2\n",
        "23         0           5.1          3.3           1.7          0.5\n",
        "24         0           4.8          3.4           1.9          0.2\n",
        "25         0           5.0          3.0           1.6          0.2\n",
        "26         0           5.0          3.4           1.6          0.4\n",
        "27         0           5.2          3.5           1.5          0.2\n",
        "28         0           5.2          3.4           1.4          0.2\n",
        "29         0           4.7          3.2           1.6          0.2\n",
        "..       ...           ...          ...           ...          ...\n",
        "120        2           6.9          3.2           5.7          2.3\n",
        "121        2           5.6          2.8           4.9          2.0\n",
        "122        2           7.7          2.8           6.7          2.0\n",
        "123        2           6.3          2.7           4.9          1.8\n",
        "124        2           6.7          3.3           5.7          2.1\n",
        "125        2           7.2          3.2           6.0          1.8\n",
        "126        2           6.2          2.8           4.8          1.8\n",
        "127        2           6.1          3.0           4.9          1.8\n",
        "128        2           6.4          2.8           5.6          2.1\n",
        "129        2           7.2          3.0           5.8          1.6\n",
        "130        2           7.4          2.8           6.1          1.9\n",
        "131        2           7.9          3.8           6.4          2.0\n",
        "132        2           6.4          2.8           5.6          2.2\n",
        "133        2           6.3          2.8           5.1          1.5\n",
        "134        2           6.1          2.6           5.6          1.4\n",
        "135        2           7.7          3.0           6.1          2.3\n",
        "136        2           6.3          3.4           5.6          2.4\n",
        "137        2           6.4          3.1           5.5          1.8\n",
        "138        2           6.0          3.0           4.8          1.8\n",
        "139        2           6.9          3.1           5.4          2.1\n",
        "140        2           6.7          3.1           5.6          2.4\n",
        "141        2           6.9          3.1           5.1          2.3\n",
        "142        2           5.8          2.7           5.1          1.9\n",
        "143        2           6.8          3.2           5.9          2.3\n",
        "144        2           6.7          3.3           5.7          2.5\n",
        "145        2           6.7          3.0           5.2          2.3\n",
        "146        2           6.3          2.5           5.0          1.9\n",
        "147        2           6.5          3.0           5.2          2.0\n",
        "148        2           6.2          3.4           5.4          2.3\n",
        "149        2           5.9          3.0           5.1          1.8\n",
        "\n",
        "[150 rows x 5 columns]\n"
       ]
      }
     ],
     "prompt_number": 150
    },
    {
     "cell_type": "code",
     "collapsed": false,
     "input": [
      "data.columns"
     ],
     "language": "python",
     "metadata": {},
     "outputs": [
      {
       "metadata": {},
       "output_type": "pyout",
       "prompt_number": 151,
       "text": [
        "Index([u'Species', u'sepal length', u'sepal width', u'petal length', u'petal width'], dtype='object')"
       ]
      }
     ],
     "prompt_number": 151
    },
    {
     "cell_type": "code",
     "collapsed": false,
     "input": [
      "data.index"
     ],
     "language": "python",
     "metadata": {},
     "outputs": [
      {
       "metadata": {},
       "output_type": "pyout",
       "prompt_number": 152,
       "text": [
        "Int64Index([0, 1, 2, 3, 4, 5, 6, 7, 8, 9, 10, 11, 12, 13, 14, 15, 16, 17, 18, 19, 20, 21, 22, 23, 24, 25, 26, 27, 28, 29, 30, 31, 32, 33, 34, 35, 36, 37, 38, 39, 40, 41, 42, 43, 44, 45, 46, 47, 48, 49, 50, 51, 52, 53, 54, 55, 56, 57, 58, 59, 60, 61, 62, 63, 64, 65, 66, 67, 68, 69, 70, 71, 72, 73, 74, 75, 76, 77, 78, 79, 80, 81, 82, 83, 84, 85, 86, 87, 88, 89, 90, 91, 92, 93, 94, 95, 96, 97, 98, 99, ...], dtype='int64')"
       ]
      }
     ],
     "prompt_number": 152
    },
    {
     "cell_type": "code",
     "collapsed": false,
     "input": [
      "data[\"sepal length\"]"
     ],
     "language": "python",
     "metadata": {},
     "outputs": [
      {
       "metadata": {},
       "output_type": "pyout",
       "prompt_number": 154,
       "text": [
        "0     5.1\n",
        "1     4.9\n",
        "2     4.7\n",
        "3     4.6\n",
        "4     5.0\n",
        "5     5.4\n",
        "6     4.6\n",
        "7     5.0\n",
        "8     4.4\n",
        "9     4.9\n",
        "10    5.4\n",
        "11    4.8\n",
        "12    4.8\n",
        "13    4.3\n",
        "14    5.8\n",
        "...\n",
        "135    7.7\n",
        "136    6.3\n",
        "137    6.4\n",
        "138    6.0\n",
        "139    6.9\n",
        "140    6.7\n",
        "141    6.9\n",
        "142    5.8\n",
        "143    6.8\n",
        "144    6.7\n",
        "145    6.7\n",
        "146    6.3\n",
        "147    6.5\n",
        "148    6.2\n",
        "149    5.9\n",
        "Name: sepal length, Length: 150, dtype: float64"
       ]
      }
     ],
     "prompt_number": 154
    },
    {
     "cell_type": "code",
     "collapsed": false,
     "input": [
      "plt.scatter(data[\"sepal length\"],data[\"sepal width\"])"
     ],
     "language": "python",
     "metadata": {},
     "outputs": [
      {
       "metadata": {},
       "output_type": "pyout",
       "prompt_number": 156,
       "text": [
        "<matplotlib.collections.PathCollection at 0x111c3fc10>"
       ]
      },
      {
       "metadata": {},
       "output_type": "display_data",
       "png": "[encoded data removed]",
       "text": [
        "<matplotlib.figure.Figure at 0x111b3a8d0>"
       ]
      }
     ],
     "prompt_number": 156
    },
    {
     "cell_type": "heading",
     "level": 1,
     "metadata": {},
     "source": [
      "Objectives of the Workshop"
     ]
    },
    {
     "cell_type": "markdown",
     "metadata": {},
     "source": [
      "<font color='gray' size=3 face='Comic Sans MS'>\n",
      "\n",
      "<p>Before leaving the workshop:</p>\n",
      "<ol>\n",
      "<font color='black'><li>Have working python environment on your laptop</li><br></font>\n",
      "\n",
      "<font color='black'><li>Know how to talk to the python interpreter</li><br></font>\n",
      "\n",
      "<font color='black'><li>Know where to find out more about python</li><br></font>\n",
      "\n",
      "<font color='black'><li>Know how to get data into python, use functions and do a few basic operations</li><br></font>\n",
      "</ol>\n",
      "\n",
      "</font>"
     ]
    },
    {
     "cell_type": "markdown",
     "metadata": {},
     "source": [
      "<br><br><center><font color=#505050 size=8 face='arial black'>Thanks for listening!</font></center>"
     ]
    },
    {
     "cell_type": "code",
     "collapsed": false,
     "input": [],
     "language": "python",
     "metadata": {},
     "outputs": []
    }
   ],
   "metadata": {}
  }
 ]
}